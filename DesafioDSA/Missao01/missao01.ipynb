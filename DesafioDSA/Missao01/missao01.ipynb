{
 "cells": [
  {
   "cell_type": "code",
   "execution_count": 1,
   "id": "83f96ae7",
   "metadata": {},
   "outputs": [
    {
     "name": "stdout",
     "output_type": "stream",
     "text": [
      "Versão da Linguagem Python Usada Neste Jupyter Notebook: 3.8.8\n"
     ]
    }
   ],
   "source": [
    "# Versão da Linguagem Python\n",
    "from platform import python_version\n",
    "print('Versão da Linguagem Python Usada Neste Jupyter Notebook:', python_version())"
   ]
  },
  {
   "cell_type": "markdown",
   "id": "ad96af53",
   "metadata": {},
   "source": [
    "Missão: Implementar um algoritmo para determinar se uma string possui todos os caracteres exclusivos."
   ]
  },
  {
   "cell_type": "markdown",
   "id": "5b55d563",
   "metadata": {},
   "source": [
    "Nível de Dificuldade: Baixo"
   ]
  },
  {
   "cell_type": "markdown",
   "id": "3a257437",
   "metadata": {},
   "source": [
    "Premissas\n",
    "\n",
    "<ul>\n",
    "<li>Podemos assumir que a string é ASCII?      Sim      Nota: As cadeias de caracteres Unicode podem exigir tratamento especial dependendo do seu idioma</li>\n",
    "<li>Podemos supor que há distinção entre maiúsculas e minúsculas?      * Sim</li>\n",
    "<li>Podemos usar estruturas de dados adicionais?      * Sim</li>\n",
    "</ul>\n",
    "\n",
    "Teste Cases\n",
    "\n",
    "<ul>\n",
    "<li>None -> False</li>\n",
    "<li> '' -> True</li>\n",
    "<li>'foo' -> False</li>\n",
    "<li>'bar' -> True</li>\n",
    "</ul>    \n",
    "\n",
    "Algoritmo: Hash Map Lookup\n",
    "\n",
    "Manteremos um mapa hash (conjunto) para rastrear os caracteres únicos que encontramos.\n",
    "\n",
    "Passos:\n",
    "\n",
    "<ul>\n",
    "<li>Faça um scan cada caracter</li>\n",
    "<li>Para cada caracter:     <i> Se o caracter não existir em um mapa de hash, adicione o caractere a um mapa de hash</i>      Senão, retorne False</li>\n",
    "<li>Retornar Verdadeiro</li>\n",
    "</ul>      \n",
    "\n",
    "Nota:\n",
    "\n",
    "<ul>\n",
    "<li>Também podemos usar um dicionário, mas parece mais lógico usar um set, pois ele não contém elementos duplicados</li>\n",
    "</ul>      \n",
    "\n",
    "Solução"
   ]
  },
  {
   "cell_type": "code",
   "execution_count": 2,
   "id": "bc873172",
   "metadata": {},
   "outputs": [
    {
     "ename": "SyntaxError",
     "evalue": "unexpected EOF while parsing (<ipython-input-2-c25c3cb8a3b2>, line 4)",
     "output_type": "error",
     "traceback": [
      "\u001b[0;36m  File \u001b[0;32m\"<ipython-input-2-c25c3cb8a3b2>\"\u001b[0;36m, line \u001b[0;32m4\u001b[0m\n\u001b[0;31m    # Implemente aqui sua solução\u001b[0m\n\u001b[0m                                 ^\u001b[0m\n\u001b[0;31mSyntaxError\u001b[0m\u001b[0;31m:\u001b[0m unexpected EOF while parsing\n"
     ]
    }
   ],
   "source": [
    "class UniqueChars(object):\n",
    "\n",
    "    def has_unique_chars(self, string):\n",
    "        # Implemente aqui sua solução"
   ]
  },
  {
   "cell_type": "markdown",
   "id": "119b0e9a",
   "metadata": {},
   "source": [
    "### Teste da Solução"
   ]
  },
  {
   "cell_type": "code",
   "execution_count": 3,
   "id": "23ba24af",
   "metadata": {},
   "outputs": [
    {
     "name": "stdout",
     "output_type": "stream",
     "text": [
      "Writing missao1.py\n"
     ]
    }
   ],
   "source": [
    "%%writefile missao1.py\n",
    "from nose.tools import assert_equal\n",
    "\n",
    "\n",
    "class TestUniqueChars(object):\n",
    "\n",
    "    def test_unique_chars(self, func):\n",
    "        assert_equal(func(None), False)\n",
    "        assert_equal(func(''), True)\n",
    "        assert_equal(func('foo'), False)\n",
    "        assert_equal(func('bar'), True)\n",
    "        print('Sua solução foi executada com sucesso! Parabéns!')\n",
    "\n",
    "\n",
    "def main():\n",
    "    test = TestUniqueChars()\n",
    "    try:\n",
    "        unique_chars = UniqueChars()\n",
    "        test.test_unique_chars(unique_chars.has_unique_chars)\n",
    "    except NameError:\n",
    "        pass\n",
    "\n",
    "\n",
    "if __name__ == '__main__':\n",
    "    main()"
   ]
  },
  {
   "cell_type": "code",
   "execution_count": 4,
   "id": "69eab6b7",
   "metadata": {},
   "outputs": [],
   "source": [
    "%run -i missao1.py"
   ]
  },
  {
   "cell_type": "code",
   "execution_count": null,
   "id": "a2874236",
   "metadata": {},
   "outputs": [],
   "source": []
  }
 ],
 "metadata": {
  "kernelspec": {
   "display_name": "Python 3",
   "language": "python",
   "name": "python3"
  },
  "language_info": {
   "codemirror_mode": {
    "name": "ipython",
    "version": 3
   },
   "file_extension": ".py",
   "mimetype": "text/x-python",
   "name": "python",
   "nbconvert_exporter": "python",
   "pygments_lexer": "ipython3",
   "version": "3.8.8"
  }
 },
 "nbformat": 4,
 "nbformat_minor": 5
}
