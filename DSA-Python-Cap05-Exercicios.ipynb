{
 "cells": [
  {
   "cell_type": "markdown",
   "metadata": {},
   "source": [
    "# <font color='blue'>Data Science Academy - Python Fundamentos - Capítulo 5</font>\n",
    "\n",
    "## Download: http://github.com/dsacademybr"
   ]
  },
  {
   "cell_type": "code",
   "execution_count": 1,
   "metadata": {},
   "outputs": [
    {
     "name": "stdout",
     "output_type": "stream",
     "text": [
      "Versão da Linguagem Python Usada Neste Jupyter Notebook: 3.8.8\n"
     ]
    }
   ],
   "source": [
    "# Versão da Linguagem Python\n",
    "from platform import python_version\n",
    "print('Versão da Linguagem Python Usada Neste Jupyter Notebook:', python_version())"
   ]
  },
  {
   "cell_type": "markdown",
   "metadata": {},
   "source": [
    "## Exercícios"
   ]
  },
  {
   "cell_type": "code",
   "execution_count": 2,
   "metadata": {},
   "outputs": [],
   "source": [
    "# Exercício 1 - Crie um objeto a partir da classe abaixo, chamado roc1, passando 2 parâmetros e depois faça uma chamada\n",
    "# aos atributos e métodos\n",
    "from math import sqrt\n",
    "\n",
    "class Rocket():\n",
    "     \n",
    "    def __init__(self, x=0, y=0):\n",
    "        self.x = x\n",
    "        self.y = y\n",
    "        \n",
    "    def move_rocket(self, x_increment=0, y_increment=1):\n",
    "        self.x += x_increment\n",
    "        self.y += y_increment\n",
    "        \n",
    "    def print_rocket(self):\n",
    "        print(self.x, self.y)\n",
    "                "
   ]
  },
  {
   "cell_type": "code",
   "execution_count": 6,
   "metadata": {},
   "outputs": [
    {
     "name": "stdout",
     "output_type": "stream",
     "text": [
      "10 20\n",
      "15 25\n"
     ]
    }
   ],
   "source": [
    "roc1 = Rocket(10,20)\n",
    "\n",
    "roc1.print_rocket()\n",
    "\n",
    "roc1.move_rocket(5,5)\n",
    "\n",
    "roc1.print_rocket()"
   ]
  },
  {
   "cell_type": "code",
   "execution_count": 21,
   "metadata": {},
   "outputs": [],
   "source": [
    "# Exercício 2 - Crie uma classe chamada Pessoa() com os atributos: nome, cidade, telefone e e-mail. Use pelo menos 2\n",
    "# métodos especiais na sua classe. Crie um objeto da sua classe e faça uma chamada a pelo menos um dos seus métodos\n",
    "# especiais.\n",
    "\n",
    "class Pessoa():\n",
    "    def __init__(self, nome, cidade, telefone, email):\n",
    "        self.nome = nome\n",
    "        self.cidade = cidade\n",
    "        self.telefone = telefone\n",
    "        self.email = email\n",
    "        \n",
    "    def listPessoa(self):\n",
    "        print(\"O nome da pessoa é \"+ self.nome + \" e a cidade é \" + str(self.cidade) \\\n",
    "    + \" e o telefone é \" + str(self.telefone) + \" e o e-mail é \" + str(self.email))     \n",
    "\n",
    "    def __str__(self):\n",
    "        return \"pessoa: %s, cidade: %s, telefone: %s, e-mail: %s \" %(self.nome, self.cidade, self.telefone, self.email)\n",
    "         \n",
    "    def __repr__(self):\n",
    "        return 'Pessoa(\"%s\", \"%s\", \"%s\", \"%s\")' % (self.nome, self.cidade, self.telefone, self.email)       \n"
   ]
  },
  {
   "cell_type": "code",
   "execution_count": 24,
   "metadata": {},
   "outputs": [
    {
     "name": "stdout",
     "output_type": "stream",
     "text": [
      "O nome da pessoa é Leonardo e a cidade é Palmas e o telefone é 63992352228 e o e-mail é leonardodamata@gmai.com\n",
      "Pessoa(\"Leonardo\", \"Palmas\", \"63992352228\", \"leonardodamata@gmai.com\")\n",
      "pessoa: Leonardo, cidade: Palmas, telefone: 63992352228, e-mail: leonardodamata@gmai.com \n"
     ]
    }
   ],
   "source": [
    "pessoa1 = Pessoa(\"Leonardo\", \"Palmas\", 63992352228, \"leonardodamata@gmai.com\")\n",
    "\n",
    "pessoa1.listPessoa()\n",
    "\n",
    "str(pessoa1)\n",
    "\n",
    "print(repr(pessoa1))\n",
    "\n",
    "print(pessoa1)"
   ]
  },
  {
   "cell_type": "code",
   "execution_count": 26,
   "metadata": {},
   "outputs": [],
   "source": [
    "# Exercício 3 - Crie a classe Smartphone com 2 atributos, tamanho e interface e crie a classe MP3Player com os \n",
    "# atributos capacidade. A classe MP3player deve herdar os atributos da classe Smartphone.\n",
    "\n",
    "class Smartphone():\n",
    "    def __init__(self, memoriaRam, tamanhoTela):\n",
    "        self.memoriaRam = memoriaRam\n",
    "        self.tamanhoTela = tamanhoTela"
   ]
  },
  {
   "cell_type": "code",
   "execution_count": 31,
   "metadata": {},
   "outputs": [],
   "source": [
    "class MP3Player(Smartphone):\n",
    "    def __init__(self, capacidade):\n",
    "        self.capacidade = capacidade\n"
   ]
  },
  {
   "cell_type": "markdown",
   "metadata": {},
   "source": [
    "### FIM"
   ]
  },
  {
   "cell_type": "markdown",
   "metadata": {},
   "source": [
    "### Obrigado\n",
    "\n",
    "### Visite o Blog da Data Science Academy - <a href=\"http://blog.dsacademy.com.br\">Blog DSA</a>"
   ]
  }
 ],
 "metadata": {
  "kernelspec": {
   "display_name": "Python 3",
   "language": "python",
   "name": "python3"
  },
  "language_info": {
   "codemirror_mode": {
    "name": "ipython",
    "version": 3
   },
   "file_extension": ".py",
   "mimetype": "text/x-python",
   "name": "python",
   "nbconvert_exporter": "python",
   "pygments_lexer": "ipython3",
   "version": "3.8.8"
  }
 },
 "nbformat": 4,
 "nbformat_minor": 1
}
