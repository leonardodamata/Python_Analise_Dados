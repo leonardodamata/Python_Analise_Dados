{
 "cells": [
  {
   "cell_type": "markdown",
   "id": "07d354d3",
   "metadata": {},
   "source": [
    "# Análise Exploratória de Dados"
   ]
  },
  {
   "cell_type": "markdown",
   "id": "b705bb55",
   "metadata": {},
   "source": [
    "### Neste notebook usaremos uma pesquisa recente nos EUA sobre o mercado de trabalho para programadores de software. Nosso objetivo é fazer uma investigação inicial dos dados a fim de detectar problemas com os dados, necessidade de mais variáiveis, falhas  na organização e necessidads de tranformação."
   ]
  },
  {
   "cell_type": "markdown",
   "id": "c9cda81c",
   "metadata": {},
   "source": [
    "### Pesquisa Salarial realizada pelo site https://www.freecodecamp.com/ com programadores do software nos EUA que frequentam treinamentos Bootcamp."
   ]
  },
  {
   "cell_type": "code",
   "execution_count": 1,
   "id": "d85db1a9",
   "metadata": {},
   "outputs": [],
   "source": [
    "# Importando os pacotes\n",
    "import numpy as np\n",
    "import matplotlib.pyplot as plt\n",
    "import pandas as pd\n",
    "import colorsys\n",
    "plt.style.use('seaborn-talk')\n",
    "import warnings\n",
    "warnings.filterwarnings(\"ignore\")\n",
    "%matplotlib inline"
   ]
  },
  {
   "cell_type": "code",
   "execution_count": 3,
   "id": "5bc0f4c7",
   "metadata": {},
   "outputs": [],
   "source": [
    "# Carregando o dataset\n",
    "df = pd.read_csv(\"Dados-Pesquisa.csv\", sep = ',', low_memory=False)"
   ]
  },
  {
   "cell_type": "code",
   "execution_count": null,
   "id": "b6458960",
   "metadata": {},
   "outputs": [],
   "source": [
    "print(df.head())"
   ]
  },
  {
   "cell_type": "code",
   "execution_count": null,
   "id": "d675b5a3",
   "metadata": {},
   "outputs": [],
   "source": [
    "df"
   ]
  },
  {
   "cell_type": "code",
   "execution_count": null,
   "id": "7beca387",
   "metadata": {},
   "outputs": [],
   "source": [
    "print(df.describe())"
   ]
  },
  {
   "cell_type": "code",
   "execution_count": null,
   "id": "946a3300",
   "metadata": {},
   "outputs": [],
   "source": [
    "# Lista todas as colunas\n",
    "list(df)"
   ]
  },
  {
   "cell_type": "markdown",
   "id": "4e0469fc",
   "metadata": {},
   "source": [
    "# Distribuição de Idade"
   ]
  },
  {
   "cell_type": "code",
   "execution_count": null,
   "id": "cb72d257",
   "metadata": {},
   "outputs": [],
   "source": [
    "# A maiora dos profissionais que trabalham como programadores de\n",
    "# software estão na faixa de idade entre 20 e 30 anos, sendo 25 anos\n",
    "# a idade mais frequente.\n",
    "\n",
    "# Gerando um histograma\n",
    "df.Age.hist(bins = 60)\n",
    "plt.xlabel(\"Idade\")\n",
    "plt.ylabel(\"Número de Profissionais\")\n",
    "plt.title(\"Distribuição de idade\")\n",
    "plt.show()   "
   ]
  },
  {
   "cell_type": "markdown",
   "id": "422cbd64",
   "metadata": {},
   "source": [
    "# Distribuição de Sexo"
   ]
  },
  {
   "cell_type": "code",
   "execution_count": null,
   "id": "9cf30e9e",
   "metadata": {},
   "outputs": [],
   "source": [
    "# A grande maioria dos programadores são do sexo masculino\n",
    "\n",
    "# Definindo a quantidade\n",
    "labels = df.Gender.value_counts().index\n",
    "num = len(df.EmploymentField.value_counts().index)\n",
    "\n",
    "# Criando a lista de cores\n",
    "listaHSV = [(x*1.0/num, 0.5, 0.5) for x in range(num)]\n",
    "listaRGB = list(map(lambda x: colorsys.hsv_to_rgb(*x), listaHSV))\n",
    "\n",
    "# Gráfico de Pizza\n",
    "fatias, texto = plt.pie(df.Gender.value_counts(), colors = listaRGB, startangle = 90)\n",
    "#plt.axes().set_aspect('equal', 'datalim')\n",
    "plt.legend(fatias, labels, bbox_to_anchor = (1.05, 1))\n",
    "plt.title(\"Sexo\")\n",
    "plt.show()"
   ]
  },
  {
   "cell_type": "markdown",
   "id": "36dc0fb2",
   "metadata": {},
   "source": [
    "# Distribuição de Interesses"
   ]
  },
  {
   "cell_type": "code",
   "execution_count": null,
   "id": "5a00eeed",
   "metadata": {},
   "outputs": [],
   "source": [
    "# Quais são os principais interesses dos participantes da pesquisa?\n",
    "# O principal interesse profissional dos programadores é desenvolvimento web (Full-Stack, Front-End e Back-End),\n",
    "# seguindo pela área de Data Science\n",
    "\n",
    "# Definindo a quantidade\n",
    "\n",
    "num = len(df.JobRoleInterest.value_counts().index)\n",
    "\n",
    "# Criando a lista de cores\n",
    "listaHSV = [(x*1.0/num, 0.5, 0.5) for x in range(num)]\n",
    "listaRGB = list(map(lambda x: colorsys.hsv_to_rgb(*x), listaHSV))\n",
    "labels = df.JobRoleInterest.value_counts().index\n",
    "colors = ['OlibeDrab', 'Orange', 'OrangeRed', 'DarkCyan', 'Salmon', 'Sienna', 'Maroon', 'LightSlateGrey', 'DimGray']\n",
    "\n",
    "# Gráfico de Pizza\n",
    "fatias, texto = plt.pie(df.JobRoleInterest.value_counts(), colors = listaRGB, startangle = 90)\n",
    "#plt.axes().set_aspect('equal', 'datalim')\n",
    "plt.legend(fatias, labels, bbox_to_anchor = (1.25, 1))\n",
    "plt.title(\"Interesse Profissional\")\n",
    "plt.show()"
   ]
  },
  {
   "cell_type": "markdown",
   "id": "e502fa43",
   "metadata": {},
   "source": [
    "# Distribuição de Empregabilidade"
   ]
  },
  {
   "cell_type": "code",
   "execution_count": null,
   "id": "317192cc",
   "metadata": {},
   "outputs": [],
   "source": [
    "# Quais as áreas de negócio em que os participantes trabalham?\n",
    "# A maioria dos programadores trabalha na área de desenvolvimento de\n",
    "# softwares e TI, mas outras áreas como finançs e saúde também são\n",
    "# significativas\n",
    "\n",
    "# Definindo a quantidade\n",
    "num = len(df.EmploymentField.value_counts().index)\n",
    "\n",
    "# Criando a lista de cores\n",
    "listaHSV = [(x*1.0/num, 0.5, 0.5) for x in range(num)]\n",
    "listaRGB = list(map(lambda x: colorsys.hsv_to_rgb(*x), listaHSV))\n",
    "labels = df.EmploymentField.value_counts().index\n",
    "\n",
    "# Gráfica de Pizza\n",
    "fatias, texto = plt.pie(df.EmploymentField.value_counts(), colors = listaRGB, startangle = 90)\n",
    "#plt.axes().set_aspect('equal', 'datalim')\n",
    "plt.legend(fatias, labels, bbox_to_anchor = (1.3,1))\n",
    "plt.title(\"Área de trabalho Atual\")\n",
    "plt.show()"
   ]
  },
  {
   "cell_type": "markdown",
   "id": "6805c090",
   "metadata": {},
   "source": [
    "# Preferências de Trabalho por Idade"
   ]
  },
  {
   "cell_type": "code",
   "execution_count": 8,
   "id": "32345414",
   "metadata": {},
   "outputs": [
    {
     "name": "stdout",
     "output_type": "stream",
     "text": [
      "[0, 20, 30, 40, 50, 60, 100]\n"
     ]
    },
    {
     "ename": "TypeError",
     "evalue": "cut() missing 1 required positional argument: 'bins'",
     "output_type": "error",
     "traceback": [
      "\u001b[0;31m---------------------------------------------------------------------------\u001b[0m",
      "\u001b[0;31mTypeError\u001b[0m                                 Traceback (most recent call last)",
      "\u001b[0;32m<ipython-input-8-94453b088c1a>\u001b[0m in \u001b[0;36m<module>\u001b[0;34m\u001b[0m\n\u001b[1;32m     12\u001b[0m \u001b[0mprint\u001b[0m\u001b[0;34m(\u001b[0m\u001b[0mbins2\u001b[0m\u001b[0;34m)\u001b[0m\u001b[0;34m\u001b[0m\u001b[0;34m\u001b[0m\u001b[0m\n\u001b[1;32m     13\u001b[0m \u001b[0;34m\u001b[0m\u001b[0m\n\u001b[0;32m---> 14\u001b[0;31m \u001b[0mdf_ageranges\u001b[0m\u001b[0;34m[\u001b[0m\u001b[0;34m'AgeRangers'\u001b[0m\u001b[0;34m]\u001b[0m \u001b[0;34m=\u001b[0m \u001b[0mpd\u001b[0m\u001b[0;34m.\u001b[0m\u001b[0mcut\u001b[0m\u001b[0;34m(\u001b[0m\u001b[0mdf_ageranges\u001b[0m\u001b[0;34m[\u001b[0m\u001b[0;34m'Age'\u001b[0m\u001b[0;34m]\u001b[0m\u001b[0;34m)\u001b[0m\u001b[0;34m\u001b[0m\u001b[0;34m\u001b[0m\u001b[0m\n\u001b[0m\u001b[1;32m     15\u001b[0m \u001b[0;34m\u001b[0m\u001b[0m\n\u001b[1;32m     16\u001b[0m \u001b[0;31m#df_ageranges['AgeRangers'] = pd.cut(df_ageranges['Age'],\u001b[0m\u001b[0;34m\u001b[0m\u001b[0;34m\u001b[0m\u001b[0;34m\u001b[0m\u001b[0m\n",
      "\u001b[0;31mTypeError\u001b[0m: cut() missing 1 required positional argument: 'bins'"
     ]
    }
   ],
   "source": [
    "# Quais são as preferências de Trabalho por Idade?\n",
    "# Perceba que á medida que a idade aumenta, o interesse por trabalho\n",
    "# freelance também aumenta, sendo o modelo preferido por profissionais\n",
    "# acima de 60 anos. Profissionais mais jovens preferem trabalhat em \n",
    "# Startups ou no seu próprio negócio. Profissionais entre  20 e 50 anos\n",
    "# preferem trabalhar em empresas de tamanho médio.\n",
    "\n",
    "# Agrupando os dados \n",
    "df_ageranges = df.copy()\n",
    "bins2 = [0, 20, 30, 40, 50, 60, 100]\n",
    "\n",
    "print(bins2)\n",
    " \n",
    "df_ageranges['AgeRangers'] = pd.cut(df_ageranges['Age'])   \n",
    "    \n",
    "#df_ageranges['AgeRangers'] = pd.cut(df_ageranges['Age'], \n",
    "#                                    bins = bins2,\n",
    "#                                    labels=[\"< 20\", \"20-30\", \"30-40\",\"40-50\", \"< 60\"])\n",
    "\n",
    "#df2 = pd.crosstab(df_ageranges.AgeRanges,\n",
    "#                  df_ageranges.JobPref).apply(lambda r: r/r.sum(), axis= 1)\n",
    "\n",
    "# Definindo a quantidade\n",
    "#num = len(df_ageranges.AgeRanges.values_counts().index)\n",
    "\n",
    "# Criando a lista de cores\n",
    "#listaHSV = [(x*1.0/num, 0.5, 0.5) for x in range(num)]\n",
    "#listaRGBtaHSV = list(map(lambda x: colorsys.hsv_to_rgb(*x), listaHSV))\n",
    "\n",
    "# Gráfico de Barras(Stacked)\n",
    "\n",
    "#ax1 = df2.plot(king = \"bar\", stacked = True, color = listaRGB, title = \"Preferência de Tabalho por Idade\")\n",
    "#lines, labels = ax1.get_legend_handles_labels()\n",
    "#ax1.legend(lines, labels, bbox_to_anchor = (1.51, 1))\n",
    "\n",
    " \n",
    "\n",
    "# 09:39"
   ]
  },
  {
   "cell_type": "code",
   "execution_count": null,
   "id": "44cf09a5",
   "metadata": {},
   "outputs": [],
   "source": []
  }
 ],
 "metadata": {
  "kernelspec": {
   "display_name": "Python 3",
   "language": "python",
   "name": "python3"
  },
  "language_info": {
   "codemirror_mode": {
    "name": "ipython",
    "version": 3
   },
   "file_extension": ".py",
   "mimetype": "text/x-python",
   "name": "python",
   "nbconvert_exporter": "python",
   "pygments_lexer": "ipython3",
   "version": "3.8.8"
  }
 },
 "nbformat": 4,
 "nbformat_minor": 5
}
