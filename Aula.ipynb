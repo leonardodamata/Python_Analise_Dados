{
 "cells": [
  {
   "cell_type": "markdown",
   "id": "9ca9365f",
   "metadata": {},
   "source": [
    "# Números e Operações Matemáticas"
   ]
  },
  {
   "cell_type": "code",
   "execution_count": null,
   "id": "44025ba5",
   "metadata": {},
   "outputs": [],
   "source": [
    "# soma\n",
    "4 + 4"
   ]
  },
  {
   "cell_type": "code",
   "execution_count": null,
   "id": "89b84555",
   "metadata": {},
   "outputs": [],
   "source": [
    "#subtração\n",
    "4 - 3"
   ]
  },
  {
   "cell_type": "code",
   "execution_count": null,
   "id": "ae437c31",
   "metadata": {},
   "outputs": [],
   "source": [
    "# divisão \n",
    "3 / 2"
   ]
  },
  {
   "cell_type": "code",
   "execution_count": null,
   "id": "8b1ab723",
   "metadata": {},
   "outputs": [],
   "source": [
    "# Potência\n",
    "4 ** 2"
   ]
  },
  {
   "cell_type": "code",
   "execution_count": null,
   "id": "058e61ae",
   "metadata": {},
   "outputs": [],
   "source": [
    "# Módulo\n",
    "10 % 3"
   ]
  },
  {
   "cell_type": "markdown",
   "id": "5df9644a",
   "metadata": {},
   "source": [
    "## Função Type"
   ]
  },
  {
   "cell_type": "code",
   "execution_count": null,
   "id": "7725bb59",
   "metadata": {},
   "outputs": [],
   "source": [
    "type(5)"
   ]
  },
  {
   "cell_type": "code",
   "execution_count": null,
   "id": "795ad5f5",
   "metadata": {},
   "outputs": [],
   "source": [
    "type(5.0)"
   ]
  },
  {
   "cell_type": "code",
   "execution_count": null,
   "id": "5e5d0bcd",
   "metadata": {},
   "outputs": [],
   "source": [
    "a = 'Eu sou uma string'\n",
    "type(a)"
   ]
  },
  {
   "cell_type": "markdown",
   "id": "dc35eef7",
   "metadata": {},
   "source": [
    "## Operações com números float"
   ]
  },
  {
   "cell_type": "code",
   "execution_count": null,
   "id": "14cc970e",
   "metadata": {},
   "outputs": [],
   "source": [
    "3.1 + 6.4"
   ]
  },
  {
   "cell_type": "code",
   "execution_count": null,
   "id": "bc261075",
   "metadata": {},
   "outputs": [],
   "source": [
    "4 + 4.0"
   ]
  },
  {
   "cell_type": "code",
   "execution_count": null,
   "id": "50ac3982",
   "metadata": {},
   "outputs": [],
   "source": [
    "4 + 4 "
   ]
  },
  {
   "cell_type": "code",
   "execution_count": null,
   "id": "83999249",
   "metadata": {},
   "outputs": [],
   "source": [
    "# Resultado é um número float\n",
    "4 / 2"
   ]
  },
  {
   "cell_type": "code",
   "execution_count": null,
   "id": "e720091b",
   "metadata": {},
   "outputs": [],
   "source": [
    "# Resultato é um número inteiro por causa da duas  barras\n",
    "4 // 2"
   ]
  },
  {
   "cell_type": "code",
   "execution_count": null,
   "id": "dafe4378",
   "metadata": {},
   "outputs": [],
   "source": [
    "4 /  3.0"
   ]
  },
  {
   "cell_type": "code",
   "execution_count": null,
   "id": "5b5e15ca",
   "metadata": {},
   "outputs": [],
   "source": [
    "4 // 3.0"
   ]
  },
  {
   "cell_type": "markdown",
   "id": "73638f0a",
   "metadata": {},
   "source": [
    "## Conversão"
   ]
  },
  {
   "cell_type": "code",
   "execution_count": null,
   "id": "ca98c6f6",
   "metadata": {},
   "outputs": [],
   "source": [
    "float(9)"
   ]
  },
  {
   "cell_type": "code",
   "execution_count": null,
   "id": "f3c1d9b7",
   "metadata": {},
   "outputs": [],
   "source": [
    "int(6.0)"
   ]
  },
  {
   "cell_type": "code",
   "execution_count": null,
   "id": "406d2f09",
   "metadata": {},
   "outputs": [],
   "source": [
    "int(6.5)"
   ]
  },
  {
   "cell_type": "markdown",
   "id": "7dabd656",
   "metadata": {},
   "source": [
    "## Hexadecimal e Binário"
   ]
  },
  {
   "cell_type": "code",
   "execution_count": null,
   "id": "b1eef0dc",
   "metadata": {},
   "outputs": [],
   "source": [
    "hex(394)"
   ]
  },
  {
   "cell_type": "code",
   "execution_count": null,
   "id": "231feb30",
   "metadata": {},
   "outputs": [],
   "source": [
    "hex(217)"
   ]
  },
  {
   "cell_type": "code",
   "execution_count": null,
   "id": "ecfe171f",
   "metadata": {},
   "outputs": [],
   "source": [
    "bin(286)"
   ]
  },
  {
   "cell_type": "code",
   "execution_count": null,
   "id": "b6e3ef61",
   "metadata": {},
   "outputs": [],
   "source": [
    "bin(390)"
   ]
  },
  {
   "cell_type": "markdown",
   "id": "1a6cb09c",
   "metadata": {},
   "source": [
    "## Funções abs, round e pow"
   ]
  },
  {
   "cell_type": "code",
   "execution_count": null,
   "id": "05b73553",
   "metadata": {},
   "outputs": [],
   "source": [
    "# Retorna o valor absoluto\n",
    "abs(-8)"
   ]
  },
  {
   "cell_type": "code",
   "execution_count": null,
   "id": "303fed1e",
   "metadata": {},
   "outputs": [],
   "source": [
    "# Retorna o valor absoluto\n",
    "abs(8)"
   ]
  },
  {
   "cell_type": "code",
   "execution_count": null,
   "id": "edb6e722",
   "metadata": {},
   "outputs": [],
   "source": [
    "#retorna o valor com arrendondamento\n",
    "round(3.14151922,2)"
   ]
  },
  {
   "cell_type": "code",
   "execution_count": null,
   "id": "1a2a653a",
   "metadata": {},
   "outputs": [],
   "source": [
    "# Potência\n",
    "pow(4,2)"
   ]
  },
  {
   "cell_type": "code",
   "execution_count": null,
   "id": "3aa565dd",
   "metadata": {},
   "outputs": [],
   "source": [
    "# Potência\n",
    "pow(5,3)"
   ]
  },
  {
   "cell_type": "markdown",
   "id": "cae9fbb0",
   "metadata": {},
   "source": [
    "## Fim"
   ]
  },
  {
   "cell_type": "markdown",
   "id": "dfa1dbf3",
   "metadata": {},
   "source": [
    "# Variáveis e Operadores"
   ]
  },
  {
   "cell_type": "code",
   "execution_count": null,
   "id": "8bf0ed1f",
   "metadata": {},
   "outputs": [],
   "source": [
    "# Atribuindo o valor 1 à variável var_teste\n",
    "var_teste = 1"
   ]
  },
  {
   "cell_type": "code",
   "execution_count": null,
   "id": "d1511606",
   "metadata": {},
   "outputs": [],
   "source": [
    "# Imprimindo o valor da variável\n",
    "var_teste"
   ]
  },
  {
   "cell_type": "code",
   "execution_count": null,
   "id": "aad94d1a",
   "metadata": {},
   "outputs": [],
   "source": [
    "# Imprimindo o valor da variável\n",
    "print(var_teste)"
   ]
  },
  {
   "cell_type": "code",
   "execution_count": null,
   "id": "ed97350c",
   "metadata": {},
   "outputs": [],
   "source": [
    "# Não podemos utilizar uma variável que não foi definida. Veja a mensagem de erro.\n",
    "my_var"
   ]
  },
  {
   "cell_type": "code",
   "execution_count": null,
   "id": "03fb34ec",
   "metadata": {},
   "outputs": [],
   "source": [
    "var_teste = 2"
   ]
  },
  {
   "cell_type": "code",
   "execution_count": null,
   "id": "b81bd775",
   "metadata": {},
   "outputs": [],
   "source": [
    "var_teste"
   ]
  },
  {
   "cell_type": "code",
   "execution_count": null,
   "id": "2fc94a15",
   "metadata": {},
   "outputs": [],
   "source": [
    "type(var_teste)"
   ]
  },
  {
   "cell_type": "code",
   "execution_count": null,
   "id": "8edd7bca",
   "metadata": {},
   "outputs": [],
   "source": [
    "var_teste = 9.5"
   ]
  },
  {
   "cell_type": "code",
   "execution_count": null,
   "id": "e3cb4df3",
   "metadata": {},
   "outputs": [],
   "source": [
    "type(var_teste)"
   ]
  },
  {
   "cell_type": "code",
   "execution_count": null,
   "id": "c3925c97",
   "metadata": {},
   "outputs": [],
   "source": [
    "x = 1"
   ]
  },
  {
   "cell_type": "code",
   "execution_count": null,
   "id": "f1119389",
   "metadata": {},
   "outputs": [],
   "source": [
    "x"
   ]
  },
  {
   "cell_type": "markdown",
   "id": "51909a14",
   "metadata": {},
   "source": [
    "## Declaração Múltipla"
   ]
  },
  {
   "cell_type": "code",
   "execution_count": null,
   "id": "99d04739",
   "metadata": {},
   "outputs": [],
   "source": [
    "pessoa1, pessoa2, pessoa3 = \"Maria\", \"José\", \"Tobias\""
   ]
  },
  {
   "cell_type": "code",
   "execution_count": null,
   "id": "24af2fd4",
   "metadata": {},
   "outputs": [],
   "source": [
    "pessoa1"
   ]
  },
  {
   "cell_type": "code",
   "execution_count": null,
   "id": "94510354",
   "metadata": {},
   "outputs": [],
   "source": [
    "pessoa2"
   ]
  },
  {
   "cell_type": "code",
   "execution_count": null,
   "id": "f793e188",
   "metadata": {},
   "outputs": [],
   "source": [
    "pessoa3"
   ]
  },
  {
   "cell_type": "code",
   "execution_count": null,
   "id": "63f2e2cd",
   "metadata": {},
   "outputs": [],
   "source": [
    "fruta1 = fruta2 = fruta3 = \"Laranja\""
   ]
  },
  {
   "cell_type": "code",
   "execution_count": null,
   "id": "a57a983f",
   "metadata": {},
   "outputs": [],
   "source": [
    "fruta1"
   ]
  },
  {
   "cell_type": "code",
   "execution_count": null,
   "id": "cc148929",
   "metadata": {},
   "outputs": [],
   "source": [
    "fruta2"
   ]
  },
  {
   "cell_type": "markdown",
   "id": "ef05cee7",
   "metadata": {},
   "source": [
    "## Pode-se usar letras, números e under_line (mas não se pode começar com números)"
   ]
  },
  {
   "cell_type": "code",
   "execution_count": null,
   "id": "cf0eb25d",
   "metadata": {},
   "outputs": [],
   "source": [
    "x1 = 50"
   ]
  },
  {
   "cell_type": "code",
   "execution_count": null,
   "id": "ba537e6d",
   "metadata": {},
   "outputs": [],
   "source": [
    "x1"
   ]
  },
  {
   "cell_type": "code",
   "execution_count": null,
   "id": "88ef12db",
   "metadata": {},
   "outputs": [],
   "source": [
    "# Mensagem de erro, pois o Python não permite nomes de variáveis que iniciem com números\n",
    "1x = 50"
   ]
  },
  {
   "cell_type": "markdown",
   "id": "36a85587",
   "metadata": {},
   "source": [
    "## Não se pode usar palavras reservadas como nome de variável"
   ]
  },
  {
   "cell_type": "markdown",
   "id": "33223081",
   "metadata": {},
   "source": [
    "## False"
   ]
  },
  {
   "cell_type": "markdown",
   "id": "311b5135",
   "metadata": {},
   "source": [
    "## class"
   ]
  },
  {
   "cell_type": "markdown",
   "id": "e3ec3b55",
   "metadata": {},
   "source": [
    "## finally"
   ]
  },
  {
   "cell_type": "markdown",
   "id": "d8b8b278",
   "metadata": {},
   "source": [
    "## is"
   ]
  },
  {
   "cell_type": "markdown",
   "id": "edd89b85",
   "metadata": {},
   "source": [
    "## etc"
   ]
  },
  {
   "cell_type": "code",
   "execution_count": null,
   "id": "06c2cf98",
   "metadata": {},
   "outputs": [],
   "source": [
    "# Não podemos usar palavras reservadas como nome de variavel\n",
    "break = 1"
   ]
  },
  {
   "cell_type": "markdown",
   "id": "264c7c49",
   "metadata": {},
   "source": [
    "## Variáveis atribuídas a outras variáveis e ordem de operadores"
   ]
  },
  {
   "cell_type": "code",
   "execution_count": null,
   "id": "23c38ab3",
   "metadata": {},
   "outputs": [],
   "source": [
    "largura = 2"
   ]
  },
  {
   "cell_type": "code",
   "execution_count": null,
   "id": "151d1620",
   "metadata": {},
   "outputs": [],
   "source": [
    "altura = 4"
   ]
  },
  {
   "cell_type": "code",
   "execution_count": null,
   "id": "b1c297d6",
   "metadata": {},
   "outputs": [],
   "source": [
    "area = largura * altura"
   ]
  },
  {
   "cell_type": "code",
   "execution_count": null,
   "id": "fb379c0c",
   "metadata": {},
   "outputs": [],
   "source": [
    "area"
   ]
  },
  {
   "cell_type": "code",
   "execution_count": null,
   "id": "416c1e0d",
   "metadata": {},
   "outputs": [],
   "source": [
    "perimetro = 2 * largura + 2 * altura"
   ]
  },
  {
   "cell_type": "code",
   "execution_count": null,
   "id": "9602a9e2",
   "metadata": {},
   "outputs": [],
   "source": [
    "perimetro"
   ]
  },
  {
   "cell_type": "code",
   "execution_count": null,
   "id": "67afa8c6",
   "metadata": {},
   "outputs": [],
   "source": [
    "# A ordem dos operadores é a mesma seguinda na Matemática\n",
    "perimetro = 2 * (largura + 2) * altura"
   ]
  },
  {
   "cell_type": "code",
   "execution_count": null,
   "id": "2b7c40aa",
   "metadata": {},
   "outputs": [],
   "source": [
    "perimetro"
   ]
  },
  {
   "cell_type": "markdown",
   "id": "9e99412d",
   "metadata": {},
   "source": [
    "## Operações com variáveis"
   ]
  },
  {
   "cell_type": "code",
   "execution_count": null,
   "id": "1b67f3ed",
   "metadata": {},
   "outputs": [],
   "source": [
    "idade1 = 25"
   ]
  },
  {
   "cell_type": "code",
   "execution_count": null,
   "id": "b9519cbe",
   "metadata": {},
   "outputs": [],
   "source": [
    "idade2 = 35"
   ]
  },
  {
   "cell_type": "code",
   "execution_count": null,
   "id": "60f413b4",
   "metadata": {},
   "outputs": [],
   "source": [
    "idade1 + idade2"
   ]
  },
  {
   "cell_type": "code",
   "execution_count": null,
   "id": "e15d7d79",
   "metadata": {},
   "outputs": [],
   "source": [
    "idade2 - idade1"
   ]
  },
  {
   "cell_type": "code",
   "execution_count": null,
   "id": "2e25cef0",
   "metadata": {},
   "outputs": [],
   "source": [
    "idade2 * idade1"
   ]
  },
  {
   "cell_type": "code",
   "execution_count": null,
   "id": "f2b5686d",
   "metadata": {},
   "outputs": [],
   "source": [
    "idade2 / idade1"
   ]
  },
  {
   "cell_type": "code",
   "execution_count": null,
   "id": "40a3be17",
   "metadata": {},
   "outputs": [],
   "source": [
    "# % é para encontra o resto da divisão\n",
    "idade2 % idade1"
   ]
  },
  {
   "cell_type": "markdown",
   "id": "d20f25f8",
   "metadata": {},
   "source": [
    "## Contatenação de Variáveis"
   ]
  },
  {
   "cell_type": "code",
   "execution_count": null,
   "id": "d185bdc7",
   "metadata": {},
   "outputs": [],
   "source": [
    "nome = \"Steve\""
   ]
  },
  {
   "cell_type": "code",
   "execution_count": null,
   "id": "ff890c3e",
   "metadata": {},
   "outputs": [],
   "source": [
    "sobrenome = \"Jobs\""
   ]
  },
  {
   "cell_type": "code",
   "execution_count": null,
   "id": "a3636d69",
   "metadata": {},
   "outputs": [],
   "source": [
    "fullName = nome + \" \" + sobrenome"
   ]
  },
  {
   "cell_type": "code",
   "execution_count": null,
   "id": "f1b0ba8d",
   "metadata": {},
   "outputs": [],
   "source": [
    "fullName"
   ]
  },
  {
   "cell_type": "markdown",
   "id": "4cd589d6",
   "metadata": {},
   "source": [
    "## Fim"
   ]
  },
  {
   "cell_type": "markdown",
   "id": "e887e83f",
   "metadata": {},
   "source": [
    "# Strings"
   ]
  },
  {
   "cell_type": "markdown",
   "id": "3245d214",
   "metadata": {},
   "source": [
    "## Criando uma String\n",
    "Para criar uma string em Python você pode usar aspas simples ou duplas. Por Exemplo:"
   ]
  },
  {
   "cell_type": "code",
   "execution_count": null,
   "id": "eb5f1e3b",
   "metadata": {},
   "outputs": [],
   "source": [
    "# Uma única palavra\n",
    "'Oi'"
   ]
  },
  {
   "cell_type": "code",
   "execution_count": null,
   "id": "63b9fc83",
   "metadata": {},
   "outputs": [],
   "source": [
    "# Uma frase\n",
    "'Criando um string em Python'"
   ]
  },
  {
   "cell_type": "code",
   "execution_count": null,
   "id": "8cb555d7",
   "metadata": {},
   "outputs": [],
   "source": [
    "# Podemos usar aspas duplas\n",
    "\"Podemos usar asplas duplas ou simples para Strings em Python\""
   ]
  },
  {
   "cell_type": "code",
   "execution_count": null,
   "id": "740ad216",
   "metadata": {},
   "outputs": [],
   "source": [
    "# Você pode combinar asplas duplas e simples\n",
    "\"Testando Strings em 'Python'\""
   ]
  },
  {
   "cell_type": "markdown",
   "id": "8d1a6085",
   "metadata": {},
   "source": [
    "## Imprimindo uma String"
   ]
  },
  {
   "cell_type": "code",
   "execution_count": null,
   "id": "d92bebe4",
   "metadata": {},
   "outputs": [],
   "source": [
    "print('Testando Strings em Python')"
   ]
  },
  {
   "cell_type": "code",
   "execution_count": null,
   "id": "4211f9d1",
   "metadata": {},
   "outputs": [],
   "source": [
    "print('Testando \\n Strings \\n em \\n Python')"
   ]
  },
  {
   "cell_type": "code",
   "execution_count": null,
   "id": "48520e48",
   "metadata": {},
   "outputs": [],
   "source": [
    "print('\\n')"
   ]
  },
  {
   "cell_type": "markdown",
   "id": "7f6373b9",
   "metadata": {},
   "source": [
    "## Indexando String"
   ]
  },
  {
   "cell_type": "code",
   "execution_count": 26,
   "id": "96bb9628",
   "metadata": {},
   "outputs": [],
   "source": [
    "# Atribuindo uma String\n",
    "s = 'Data Science Academy'"
   ]
  },
  {
   "cell_type": "code",
   "execution_count": 27,
   "id": "f67d2df9",
   "metadata": {},
   "outputs": [
    {
     "name": "stdout",
     "output_type": "stream",
     "text": [
      "Data Science Academy\n"
     ]
    }
   ],
   "source": [
    "print(s)"
   ]
  },
  {
   "cell_type": "code",
   "execution_count": 28,
   "id": "b9aac697",
   "metadata": {},
   "outputs": [],
   "source": [
    "# Primeiro elemento da String"
   ]
  },
  {
   "cell_type": "code",
   "execution_count": 29,
   "id": "00d03c80",
   "metadata": {},
   "outputs": [
    {
     "data": {
      "text/plain": [
       "'D'"
      ]
     },
     "execution_count": 29,
     "metadata": {},
     "output_type": "execute_result"
    }
   ],
   "source": [
    "s[0]"
   ]
  },
  {
   "cell_type": "code",
   "execution_count": 30,
   "id": "518b4377",
   "metadata": {},
   "outputs": [
    {
     "data": {
      "text/plain": [
       "'a'"
      ]
     },
     "execution_count": 30,
     "metadata": {},
     "output_type": "execute_result"
    }
   ],
   "source": [
    "s[1]"
   ]
  },
  {
   "cell_type": "code",
   "execution_count": 31,
   "id": "174ee1ce",
   "metadata": {},
   "outputs": [
    {
     "data": {
      "text/plain": [
       "'t'"
      ]
     },
     "execution_count": 31,
     "metadata": {},
     "output_type": "execute_result"
    }
   ],
   "source": [
    "s[2]"
   ]
  },
  {
   "cell_type": "markdown",
   "id": "dbcab77b",
   "metadata": {},
   "source": [
    "Podemos usar um : para executar um slicing que faz leitura de até um ponto designado. Por exemplo:"
   ]
  },
  {
   "cell_type": "code",
   "execution_count": 32,
   "id": "57ad8487",
   "metadata": {},
   "outputs": [
    {
     "data": {
      "text/plain": [
       "'ata Science Academy'"
      ]
     },
     "execution_count": 32,
     "metadata": {},
     "output_type": "execute_result"
    }
   ],
   "source": [
    "# Retorna todos os elementos da String, começando pela posição (Lembra-se que o Python começa a indexação pela posição 0),\n",
    "# até o fim da string.\n",
    "s[1:]"
   ]
  },
  {
   "cell_type": "code",
   "execution_count": 33,
   "id": "e47b9d8e",
   "metadata": {},
   "outputs": [
    {
     "data": {
      "text/plain": [
       "'Data Science Academy'"
      ]
     },
     "execution_count": 33,
     "metadata": {},
     "output_type": "execute_result"
    }
   ],
   "source": [
    "# A string original permanece inalterado\n",
    "s"
   ]
  },
  {
   "cell_type": "code",
   "execution_count": 34,
   "id": "419e6b9b",
   "metadata": {},
   "outputs": [
    {
     "data": {
      "text/plain": [
       "'Dat'"
      ]
     },
     "execution_count": 34,
     "metadata": {},
     "output_type": "execute_result"
    }
   ],
   "source": [
    "# Retorna tudo até a posição 3 exclusivo\n",
    "s[:3]"
   ]
  },
  {
   "cell_type": "code",
   "execution_count": null,
   "id": "d6cd64d0",
   "metadata": {},
   "outputs": [],
   "source": [
    "s[:]"
   ]
  },
  {
   "cell_type": "code",
   "execution_count": null,
   "id": "65ad8246",
   "metadata": {},
   "outputs": [],
   "source": [
    "# Nós também podemos usar a indexação negativa e ler de trás para frente\n",
    "s[-1]"
   ]
  },
  {
   "cell_type": "code",
   "execution_count": null,
   "id": "ec98ab92",
   "metadata": {},
   "outputs": [],
   "source": [
    "# Retonar tudo, exceto a última letra\n",
    "s[:-1]"
   ]
  },
  {
   "cell_type": "markdown",
   "id": "c327f9a9",
   "metadata": {},
   "source": [
    "Nós também podemos usar a notação de índice a fatiar a string em pedaços específicos ( o padrão é 1). Por exemplo, podemos usar dois pontosduas vezes em uma linha, em seguida, um números que especifica a frequência para retornar elementos. Por exemplo:"
   ]
  },
  {
   "cell_type": "code",
   "execution_count": null,
   "id": "734df2de",
   "metadata": {},
   "outputs": [],
   "source": [
    "s[::1]"
   ]
  },
  {
   "cell_type": "code",
   "execution_count": null,
   "id": "f95c672f",
   "metadata": {},
   "outputs": [],
   "source": [
    "s[::2]"
   ]
  },
  {
   "cell_type": "code",
   "execution_count": null,
   "id": "0ddf4a23",
   "metadata": {},
   "outputs": [],
   "source": [
    "s[::-1]"
   ]
  },
  {
   "cell_type": "markdown",
   "id": "4b76d5b3",
   "metadata": {},
   "source": [
    "## Propriedades de Strings"
   ]
  },
  {
   "cell_type": "code",
   "execution_count": null,
   "id": "3a5eba6e",
   "metadata": {},
   "outputs": [],
   "source": [
    "s"
   ]
  },
  {
   "cell_type": "code",
   "execution_count": null,
   "id": "4017a5fc",
   "metadata": {},
   "outputs": [],
   "source": [
    "# Alterando um caracter\n",
    "s[0] = 'x'"
   ]
  },
  {
   "cell_type": "code",
   "execution_count": null,
   "id": "f44a04b3",
   "metadata": {},
   "outputs": [],
   "source": [
    "# Contatenando strings\n",
    "s +' é a melhor maneira de estar preparando para o mercado de trabalho em Ciência de Dados!'"
   ]
  },
  {
   "cell_type": "code",
   "execution_count": null,
   "id": "11656f45",
   "metadata": {},
   "outputs": [],
   "source": [
    "s = s + ' é a melhor  maneira de estar preparado para o mercado de trabalho em Ciência de Dados!'"
   ]
  },
  {
   "cell_type": "code",
   "execution_count": null,
   "id": "280bc92f",
   "metadata": {},
   "outputs": [],
   "source": [
    "print(s)"
   ]
  },
  {
   "cell_type": "code",
   "execution_count": null,
   "id": "d94c1d8f",
   "metadata": {},
   "outputs": [],
   "source": [
    "#  Podemos usar o símbolo de multiplicação para criar a repetição!\n",
    "letra = 'w'"
   ]
  },
  {
   "cell_type": "code",
   "execution_count": null,
   "id": "34ddbfc6",
   "metadata": {},
   "outputs": [],
   "source": [
    "letra * 3"
   ]
  },
  {
   "cell_type": "markdown",
   "id": "82cce98e",
   "metadata": {},
   "source": [
    "## Funções Built-in de Strings"
   ]
  },
  {
   "cell_type": "code",
   "execution_count": null,
   "id": "1e6243e4",
   "metadata": {},
   "outputs": [],
   "source": [
    "s"
   ]
  },
  {
   "cell_type": "code",
   "execution_count": null,
   "id": "e79f65bb",
   "metadata": {},
   "outputs": [],
   "source": [
    "# Upper Case\n",
    "s.upper()"
   ]
  },
  {
   "cell_type": "code",
   "execution_count": null,
   "id": "03c27f9f",
   "metadata": {},
   "outputs": [],
   "source": [
    "# Lower Case\n",
    "s.lower()"
   ]
  },
  {
   "cell_type": "code",
   "execution_count": null,
   "id": "dcd4a808",
   "metadata": {},
   "outputs": [],
   "source": [
    "# Dividir uma string por espaçosem branco(padrão)\n",
    "s.split()"
   ]
  },
  {
   "cell_type": "code",
   "execution_count": null,
   "id": "74a3b6d3",
   "metadata": {},
   "outputs": [],
   "source": [
    "# Dividir uma string por um elemento específico\n",
    "s.split('y')"
   ]
  },
  {
   "cell_type": "markdown",
   "id": "291d301b",
   "metadata": {},
   "source": [
    "## Funções String"
   ]
  },
  {
   "cell_type": "code",
   "execution_count": null,
   "id": "59b92e1f",
   "metadata": {},
   "outputs": [],
   "source": [
    "s = 'seja bem vindo ao universo de python'"
   ]
  },
  {
   "cell_type": "code",
   "execution_count": null,
   "id": "1a78dd5a",
   "metadata": {},
   "outputs": [],
   "source": [
    "s.capitalize()"
   ]
  },
  {
   "cell_type": "code",
   "execution_count": null,
   "id": "86927e7a",
   "metadata": {},
   "outputs": [],
   "source": [
    "s.count('a')"
   ]
  },
  {
   "cell_type": "code",
   "execution_count": null,
   "id": "476d4c28",
   "metadata": {},
   "outputs": [],
   "source": [
    "s.find('p')"
   ]
  },
  {
   "cell_type": "code",
   "execution_count": null,
   "id": "8cb5f8ac",
   "metadata": {},
   "outputs": [],
   "source": [
    "s.islower()"
   ]
  },
  {
   "cell_type": "code",
   "execution_count": null,
   "id": "45943fcc",
   "metadata": {},
   "outputs": [],
   "source": [
    "s.isspace()"
   ]
  },
  {
   "cell_type": "code",
   "execution_count": null,
   "id": "d5520b80",
   "metadata": {},
   "outputs": [],
   "source": [
    "s.endswith('0')"
   ]
  },
  {
   "cell_type": "markdown",
   "id": "0f91cf10",
   "metadata": {},
   "source": [
    "## Comparando Strings"
   ]
  },
  {
   "cell_type": "code",
   "execution_count": null,
   "id": "f51f408c",
   "metadata": {},
   "outputs": [],
   "source": [
    "print(\"Python\" == \"R\")"
   ]
  },
  {
   "cell_type": "code",
   "execution_count": null,
   "id": "d57b5b58",
   "metadata": {},
   "outputs": [],
   "source": [
    "print(\"Python\" == \"Python\")"
   ]
  },
  {
   "cell_type": "markdown",
   "id": "2bc9c297",
   "metadata": {},
   "source": [
    "# Fim"
   ]
  },
  {
   "cell_type": "markdown",
   "id": "01c019a7",
   "metadata": {},
   "source": [
    "# Lista"
   ]
  },
  {
   "cell_type": "code",
   "execution_count": null,
   "id": "f46c20a2",
   "metadata": {},
   "outputs": [],
   "source": [
    "# Criando uma Lista\n",
    "listadomercado = [\"ovo, farinha, leite, maças\"]"
   ]
  },
  {
   "cell_type": "code",
   "execution_count": null,
   "id": "671c5da7",
   "metadata": {},
   "outputs": [],
   "source": [
    "# Imprimindo a Lista\n",
    "print(listadomercado)"
   ]
  },
  {
   "cell_type": "code",
   "execution_count": null,
   "id": "b057fc5d",
   "metadata": {},
   "outputs": [],
   "source": [
    "# Criando outra Lista\n",
    "listadomercado2 = [\"ovos\",\"farinha\", \"leite\", \"maças\"]"
   ]
  },
  {
   "cell_type": "code",
   "execution_count": null,
   "id": "f910c9ae",
   "metadata": {},
   "outputs": [],
   "source": [
    "# Imprimindo a Lista\n",
    "print(listadomercado2)"
   ]
  },
  {
   "cell_type": "code",
   "execution_count": null,
   "id": "c345ccb7",
   "metadata": {},
   "outputs": [],
   "source": [
    "listadomercado[0]"
   ]
  },
  {
   "cell_type": "code",
   "execution_count": null,
   "id": "af1cba7e",
   "metadata": {},
   "outputs": [],
   "source": [
    "listadomercado2[0]"
   ]
  },
  {
   "cell_type": "code",
   "execution_count": null,
   "id": "f283864d",
   "metadata": {},
   "outputs": [],
   "source": [
    "# Criando Lista\n",
    "lista3 = [12,100, \"Universidade\"]"
   ]
  },
  {
   "cell_type": "code",
   "execution_count": null,
   "id": "0c4a5371",
   "metadata": {},
   "outputs": [],
   "source": [
    "# Imprimindo\n",
    "print(lista3)"
   ]
  },
  {
   "cell_type": "code",
   "execution_count": null,
   "id": "9a3dc76c",
   "metadata": {},
   "outputs": [],
   "source": [
    "# Atribuindo cada valor da lisa a uma variável.\n",
    "item1 = lista3[0]\n",
    "item2 = lista3[1]\n",
    "item3 = lista3[2]"
   ]
  },
  {
   "cell_type": "code",
   "execution_count": null,
   "id": "97c37309",
   "metadata": {},
   "outputs": [],
   "source": [
    "# Imprindo as variáveis\n",
    "print(item1, item2, item3)"
   ]
  },
  {
   "cell_type": "markdown",
   "id": "aaf17683",
   "metadata": {},
   "source": [
    "## Atualizando um item da lista"
   ]
  },
  {
   "cell_type": "code",
   "execution_count": null,
   "id": "6d761926",
   "metadata": {},
   "outputs": [],
   "source": [
    "# Imprimindo um item da lista\n",
    "listadomercado2[2]"
   ]
  },
  {
   "cell_type": "code",
   "execution_count": null,
   "id": "2e312bcd",
   "metadata": {},
   "outputs": [],
   "source": [
    "# Atualizando um item da Lista\n",
    "listadomercado2[2] = \"chocolate\""
   ]
  },
  {
   "cell_type": "code",
   "execution_count": null,
   "id": "8539467f",
   "metadata": {},
   "outputs": [],
   "source": [
    "# Imprimindo Lista Alterada\n",
    "listadomercado2"
   ]
  },
  {
   "cell_type": "markdown",
   "id": "2aa9f169",
   "metadata": {},
   "source": [
    "## Deletando um item da lista"
   ]
  },
  {
   "cell_type": "code",
   "execution_count": null,
   "id": "f4f4671d",
   "metadata": {},
   "outputs": [],
   "source": [
    "# Out of index. Não é possivel deletarum item que não existe na lista\n",
    "del listadomercado[4]"
   ]
  },
  {
   "cell_type": "code",
   "execution_count": null,
   "id": "90b3d138",
   "metadata": {},
   "outputs": [],
   "source": [
    "# Deletando um item específico da Lista\n",
    "del listadomercado2[3]"
   ]
  },
  {
   "cell_type": "code",
   "execution_count": null,
   "id": "9212ad95",
   "metadata": {},
   "outputs": [],
   "source": [
    "# Imprimindo o item com a Lista Alterada\n",
    "listadomercado2"
   ]
  },
  {
   "cell_type": "markdown",
   "id": "5f2ebf06",
   "metadata": {},
   "source": [
    "## Listas de listas (Listas Aninhadas)\n",
    "Lista de listas são matrizes em Python"
   ]
  },
  {
   "cell_type": "code",
   "execution_count": null,
   "id": "2c3e3044",
   "metadata": {},
   "outputs": [],
   "source": [
    "# Criando uma Lista de Listas\n",
    "listas = [[1,2,3],[10,15,14],[10.1,8.7,2.3]]"
   ]
  },
  {
   "cell_type": "code",
   "execution_count": null,
   "id": "c9c9c470",
   "metadata": {},
   "outputs": [],
   "source": [
    "# Imprimindo a lista\n",
    "listas"
   ]
  },
  {
   "cell_type": "code",
   "execution_count": null,
   "id": "1fcc1b69",
   "metadata": {},
   "outputs": [],
   "source": [
    "# Atribuindo um item da Lista a uma variável\n",
    "a = listas[0]"
   ]
  },
  {
   "cell_type": "code",
   "execution_count": null,
   "id": "cc7973af",
   "metadata": {},
   "outputs": [],
   "source": [
    "a"
   ]
  },
  {
   "cell_type": "code",
   "execution_count": null,
   "id": "df2f2b24",
   "metadata": {},
   "outputs": [],
   "source": [
    "b = a[0]"
   ]
  },
  {
   "cell_type": "code",
   "execution_count": null,
   "id": "1f7f5fd1",
   "metadata": {},
   "outputs": [],
   "source": [
    "b"
   ]
  },
  {
   "cell_type": "code",
   "execution_count": null,
   "id": "d3d35780",
   "metadata": {},
   "outputs": [],
   "source": [
    "list1 = listas[1]"
   ]
  },
  {
   "cell_type": "code",
   "execution_count": null,
   "id": "3aedefa6",
   "metadata": {},
   "outputs": [],
   "source": [
    "list1"
   ]
  },
  {
   "cell_type": "code",
   "execution_count": null,
   "id": "2f94e422",
   "metadata": {},
   "outputs": [],
   "source": [
    "valor_1_0 = list1[0]"
   ]
  },
  {
   "cell_type": "code",
   "execution_count": null,
   "id": "a96fbc68",
   "metadata": {},
   "outputs": [],
   "source": [
    "valor_1_0"
   ]
  },
  {
   "cell_type": "code",
   "execution_count": null,
   "id": "a748fb1c",
   "metadata": {},
   "outputs": [],
   "source": [
    "valor_1_2 = list1[2]"
   ]
  },
  {
   "cell_type": "code",
   "execution_count": null,
   "id": "3f986a29",
   "metadata": {},
   "outputs": [],
   "source": [
    "valor_1_2"
   ]
  },
  {
   "cell_type": "code",
   "execution_count": null,
   "id": "f2d90a0d",
   "metadata": {},
   "outputs": [],
   "source": [
    "list2 = listas[2]"
   ]
  },
  {
   "cell_type": "code",
   "execution_count": null,
   "id": "a31106f1",
   "metadata": {},
   "outputs": [],
   "source": [
    "list2"
   ]
  },
  {
   "cell_type": "code",
   "execution_count": null,
   "id": "0ad88c94",
   "metadata": {},
   "outputs": [],
   "source": [
    "valor_2_0 = list2[0]"
   ]
  },
  {
   "cell_type": "code",
   "execution_count": null,
   "id": "9571d19a",
   "metadata": {},
   "outputs": [],
   "source": [
    "valor_2_0"
   ]
  },
  {
   "cell_type": "markdown",
   "id": "0d49483a",
   "metadata": {},
   "source": [
    "## Operações com listas"
   ]
  },
  {
   "cell_type": "code",
   "execution_count": null,
   "id": "8982f270",
   "metadata": {},
   "outputs": [],
   "source": [
    "# Criando uma lista aninhada (Listas de Listas)\n",
    "listas = [[1,2,3], [10,15,14],[10.1,8.7,2,3]]"
   ]
  },
  {
   "cell_type": "code",
   "execution_count": null,
   "id": "6e861914",
   "metadata": {},
   "outputs": [],
   "source": [
    "listas"
   ]
  },
  {
   "cell_type": "code",
   "execution_count": null,
   "id": "7b0d487d",
   "metadata": {},
   "outputs": [],
   "source": [
    "# Atribuindo à variável a, o primeiro valor da primeira lista\n",
    "a = listas[0][0]"
   ]
  },
  {
   "cell_type": "code",
   "execution_count": null,
   "id": "d1ae3269",
   "metadata": {},
   "outputs": [],
   "source": [
    "a"
   ]
  },
  {
   "cell_type": "code",
   "execution_count": null,
   "id": "cb2c02ba",
   "metadata": {},
   "outputs": [],
   "source": [
    "b = listas[1][2]"
   ]
  },
  {
   "cell_type": "code",
   "execution_count": null,
   "id": "78c1a777",
   "metadata": {},
   "outputs": [],
   "source": [
    "b"
   ]
  },
  {
   "cell_type": "code",
   "execution_count": null,
   "id": "97d36ac5",
   "metadata": {},
   "outputs": [],
   "source": [
    "c = listas[0][2] + 10"
   ]
  },
  {
   "cell_type": "code",
   "execution_count": null,
   "id": "b1884f29",
   "metadata": {},
   "outputs": [],
   "source": [
    "c"
   ]
  },
  {
   "cell_type": "code",
   "execution_count": null,
   "id": "ecf23f87",
   "metadata": {},
   "outputs": [],
   "source": [
    "d = 10"
   ]
  },
  {
   "cell_type": "code",
   "execution_count": null,
   "id": "2d41f09d",
   "metadata": {},
   "outputs": [],
   "source": [
    "e = d * listas[2][0]"
   ]
  },
  {
   "cell_type": "code",
   "execution_count": null,
   "id": "d30e91f5",
   "metadata": {},
   "outputs": [],
   "source": [
    "e"
   ]
  },
  {
   "cell_type": "markdown",
   "id": "f5532b7b",
   "metadata": {},
   "source": [
    "## Concatenando listas"
   ]
  },
  {
   "cell_type": "code",
   "execution_count": null,
   "id": "10018b44",
   "metadata": {},
   "outputs": [],
   "source": [
    "lista_s1 = [34, 32, 56]"
   ]
  },
  {
   "cell_type": "code",
   "execution_count": null,
   "id": "35797e73",
   "metadata": {},
   "outputs": [],
   "source": [
    "lista_s1"
   ]
  },
  {
   "cell_type": "code",
   "execution_count": null,
   "id": "83d93651",
   "metadata": {},
   "outputs": [],
   "source": [
    "lista_s2 = [21, 90, 51]"
   ]
  },
  {
   "cell_type": "code",
   "execution_count": null,
   "id": "c961cc83",
   "metadata": {},
   "outputs": [],
   "source": [
    "lista_s2"
   ]
  },
  {
   "cell_type": "code",
   "execution_count": null,
   "id": "f25f18aa",
   "metadata": {},
   "outputs": [],
   "source": [
    "# Concatenando Listas\n",
    "lista_total = lista_s1 + lista_s2"
   ]
  },
  {
   "cell_type": "code",
   "execution_count": null,
   "id": "9c0c2718",
   "metadata": {},
   "outputs": [],
   "source": [
    "lista_total"
   ]
  },
  {
   "cell_type": "markdown",
   "id": "fe2d4f72",
   "metadata": {},
   "source": [
    "## Operador in"
   ]
  },
  {
   "cell_type": "code",
   "execution_count": null,
   "id": "4e3c5c8d",
   "metadata": {},
   "outputs": [],
   "source": [
    "# Criando uma lista\n",
    "lista_teste_op = [100, 2, -5, 3.4]"
   ]
  },
  {
   "cell_type": "code",
   "execution_count": null,
   "id": "e7f99ed7",
   "metadata": {},
   "outputs": [],
   "source": [
    "# Verificando se o valor 10 pertence a lista\n",
    "print(10 in lista_teste_op)"
   ]
  },
  {
   "cell_type": "code",
   "execution_count": null,
   "id": "f738e1f1",
   "metadata": {},
   "outputs": [],
   "source": [
    "# Verificando se o valor 100 pertence a lista\n",
    "print(100 in lista_teste_op)"
   ]
  },
  {
   "cell_type": "markdown",
   "id": "f0cc6707",
   "metadata": {},
   "source": [
    "## Funções Built-in"
   ]
  },
  {
   "cell_type": "code",
   "execution_count": null,
   "id": "89e22049",
   "metadata": {},
   "outputs": [],
   "source": [
    "# Função Len() retorna o comprimento da Lista\n",
    "len(lista_teste_op)"
   ]
  },
  {
   "cell_type": "code",
   "execution_count": null,
   "id": "887aad28",
   "metadata": {},
   "outputs": [],
   "source": [
    "# Função max() retorna o valor máximo da Lista\n",
    "max(lista_teste_op)"
   ]
  },
  {
   "cell_type": "code",
   "execution_count": null,
   "id": "fac85ec2",
   "metadata": {},
   "outputs": [],
   "source": [
    "# Função min() retorna o valor mínimo da Lista\n",
    "min(lista_teste_op)"
   ]
  },
  {
   "cell_type": "code",
   "execution_count": null,
   "id": "b648cd40",
   "metadata": {},
   "outputs": [],
   "source": [
    "# Criando uma lista\n",
    "listadomercado2 = [\"ovos\", \"farinha\", \"leite\", \"maças\"]"
   ]
  },
  {
   "cell_type": "code",
   "execution_count": null,
   "id": "d43cdf2a",
   "metadata": {},
   "outputs": [],
   "source": [
    "# Adicionado um item à Lista\n",
    "listadomercado2.append(\"carne\")"
   ]
  },
  {
   "cell_type": "code",
   "execution_count": null,
   "id": "31b30b1d",
   "metadata": {},
   "outputs": [],
   "source": [
    "listadomercado2"
   ]
  },
  {
   "cell_type": "code",
   "execution_count": null,
   "id": "48f50931",
   "metadata": {},
   "outputs": [],
   "source": [
    "listadomercado2.append(\"carne\")"
   ]
  },
  {
   "cell_type": "code",
   "execution_count": null,
   "id": "56fc9952",
   "metadata": {},
   "outputs": [],
   "source": [
    "listadomercado2"
   ]
  },
  {
   "cell_type": "code",
   "execution_count": null,
   "id": "7282fb31",
   "metadata": {},
   "outputs": [],
   "source": [
    "listadomercado2.count(\"carne\")"
   ]
  },
  {
   "cell_type": "code",
   "execution_count": null,
   "id": "f1c4a210",
   "metadata": {},
   "outputs": [],
   "source": [
    "# Criando uma Lista vazia\n",
    "a = []"
   ]
  },
  {
   "cell_type": "code",
   "execution_count": null,
   "id": "39a0bac6",
   "metadata": {},
   "outputs": [],
   "source": [
    "print(a)"
   ]
  },
  {
   "cell_type": "code",
   "execution_count": null,
   "id": "32d1d3cd",
   "metadata": {},
   "outputs": [],
   "source": [
    "type(a)"
   ]
  },
  {
   "cell_type": "code",
   "execution_count": null,
   "id": "fb409739",
   "metadata": {},
   "outputs": [],
   "source": [
    "a.append(10)"
   ]
  },
  {
   "cell_type": "code",
   "execution_count": null,
   "id": "3d786635",
   "metadata": {},
   "outputs": [],
   "source": [
    "a"
   ]
  },
  {
   "cell_type": "code",
   "execution_count": null,
   "id": "3b8f5ce0",
   "metadata": {},
   "outputs": [],
   "source": [
    "a.append(50)"
   ]
  },
  {
   "cell_type": "code",
   "execution_count": null,
   "id": "a9123fa0",
   "metadata": {},
   "outputs": [],
   "source": [
    "a"
   ]
  },
  {
   "cell_type": "code",
   "execution_count": null,
   "id": "9ba23c39",
   "metadata": {},
   "outputs": [],
   "source": [
    "old_list = [1,2,5,10]"
   ]
  },
  {
   "cell_type": "code",
   "execution_count": null,
   "id": "48203564",
   "metadata": {},
   "outputs": [],
   "source": [
    "new_list = []"
   ]
  },
  {
   "cell_type": "code",
   "execution_count": null,
   "id": "ec903646",
   "metadata": {},
   "outputs": [],
   "source": [
    "# Copiando os itens de uma Lista para outra\n",
    "for item in old_list:\n",
    "    new_list.append(item)"
   ]
  },
  {
   "cell_type": "code",
   "execution_count": null,
   "id": "5f977f04",
   "metadata": {},
   "outputs": [],
   "source": [
    "new_list"
   ]
  },
  {
   "cell_type": "code",
   "execution_count": null,
   "id": "338231b2",
   "metadata": {},
   "outputs": [],
   "source": [
    "c = [20,30]"
   ]
  },
  {
   "cell_type": "code",
   "execution_count": null,
   "id": "2eec78b3",
   "metadata": {},
   "outputs": [],
   "source": [
    "c.append(60)"
   ]
  },
  {
   "cell_type": "code",
   "execution_count": null,
   "id": "30db652b",
   "metadata": {},
   "outputs": [],
   "source": [
    "c.append(70)"
   ]
  },
  {
   "cell_type": "code",
   "execution_count": null,
   "id": "af598964",
   "metadata": {},
   "outputs": [],
   "source": [
    "c"
   ]
  },
  {
   "cell_type": "code",
   "execution_count": null,
   "id": "39f444f7",
   "metadata": {},
   "outputs": [],
   "source": [
    "c.count(20)"
   ]
  },
  {
   "cell_type": "code",
   "execution_count": null,
   "id": "5814ed90",
   "metadata": {},
   "outputs": [],
   "source": [
    "cidades = ['Recife', 'Manaus', 'Salvador']\n",
    "cidades.extend(['Fortaleza', 'Palmas'])\n",
    "print(cidades)"
   ]
  },
  {
   "cell_type": "code",
   "execution_count": null,
   "id": "ecd0cb59",
   "metadata": {},
   "outputs": [],
   "source": [
    "cidades.index('Salvador')"
   ]
  },
  {
   "cell_type": "markdown",
   "id": "d7153fe7",
   "metadata": {},
   "source": [
    "Lembra-se: em Python o índice começa por 0!"
   ]
  },
  {
   "cell_type": "code",
   "execution_count": null,
   "id": "c0e2a518",
   "metadata": {},
   "outputs": [],
   "source": [
    "cidades.index('Rio de Janeiro')"
   ]
  },
  {
   "cell_type": "code",
   "execution_count": null,
   "id": "10c2cfdb",
   "metadata": {},
   "outputs": [],
   "source": [
    "cidades"
   ]
  },
  {
   "cell_type": "code",
   "execution_count": null,
   "id": "f4ed25fb",
   "metadata": {},
   "outputs": [],
   "source": [
    "cidades.insert(2, 110)"
   ]
  },
  {
   "cell_type": "code",
   "execution_count": null,
   "id": "91d4d7e5",
   "metadata": {},
   "outputs": [],
   "source": [
    "cidades"
   ]
  },
  {
   "cell_type": "code",
   "execution_count": null,
   "id": "8627ae81",
   "metadata": {},
   "outputs": [],
   "source": [
    "# Remove um item da Lista\n",
    "cidades.remove(110)"
   ]
  },
  {
   "cell_type": "code",
   "execution_count": null,
   "id": "7bc6db7d",
   "metadata": {},
   "outputs": [],
   "source": [
    "# Imprime a Lista\n",
    "cidades"
   ]
  },
  {
   "cell_type": "code",
   "execution_count": null,
   "id": "347fa44c",
   "metadata": {},
   "outputs": [],
   "source": [
    "# Reverte a Lista\n",
    "cidades.reverse()"
   ]
  },
  {
   "cell_type": "code",
   "execution_count": null,
   "id": "e45e105c",
   "metadata": {},
   "outputs": [],
   "source": [
    "# Imprime a Lista\n",
    "cidades"
   ]
  },
  {
   "cell_type": "code",
   "execution_count": null,
   "id": "d7187ca2",
   "metadata": {},
   "outputs": [],
   "source": [
    "x = [3, 4, 2, 1 ]"
   ]
  },
  {
   "cell_type": "code",
   "execution_count": null,
   "id": "986b38eb",
   "metadata": {},
   "outputs": [],
   "source": [
    "x"
   ]
  },
  {
   "cell_type": "code",
   "execution_count": null,
   "id": "34d81579",
   "metadata": {},
   "outputs": [],
   "source": [
    "# Ordena a Lista\n",
    "x.sort()"
   ]
  },
  {
   "cell_type": "code",
   "execution_count": null,
   "id": "4520cff4",
   "metadata": {},
   "outputs": [],
   "source": [
    "x"
   ]
  },
  {
   "cell_type": "markdown",
   "id": "1ce90bb2",
   "metadata": {},
   "source": [
    "# Fim"
   ]
  },
  {
   "cell_type": "markdown",
   "id": "d9243861",
   "metadata": {},
   "source": [
    "# Dicionários"
   ]
  },
  {
   "cell_type": "code",
   "execution_count": null,
   "id": "9054f7ae",
   "metadata": {},
   "outputs": [],
   "source": [
    "# Isso é uma Lista\n",
    "estudantes_lst = [\"Mateus\", 24, \"Fernanda\", 22, \"Tamires\", 26, \"Cristiano\", 25]"
   ]
  },
  {
   "cell_type": "code",
   "execution_count": null,
   "id": "7ed5053b",
   "metadata": {},
   "outputs": [],
   "source": [
    "estudantes_lst"
   ]
  },
  {
   "cell_type": "code",
   "execution_count": null,
   "id": "4a79a055",
   "metadata": {},
   "outputs": [],
   "source": [
    "# Isso é um dicionário\n",
    "estudantes_dict = {\"Matheus\":24, \"Fernanda\":22, \"Tamires\":26, \"Cristiano\":25}"
   ]
  },
  {
   "cell_type": "code",
   "execution_count": null,
   "id": "69303e93",
   "metadata": {},
   "outputs": [],
   "source": [
    "estudantes_dict"
   ]
  },
  {
   "cell_type": "code",
   "execution_count": null,
   "id": "bec48bb9",
   "metadata": {},
   "outputs": [],
   "source": [
    "estudantes_dict[\"Matheus\"]"
   ]
  },
  {
   "cell_type": "code",
   "execution_count": null,
   "id": "f6f59249",
   "metadata": {},
   "outputs": [],
   "source": [
    "estudantes_dict[\"Pedro\"] = 23"
   ]
  },
  {
   "cell_type": "code",
   "execution_count": null,
   "id": "661d2a3e",
   "metadata": {},
   "outputs": [],
   "source": [
    "estudantes_dict[\"Pedro\"]"
   ]
  },
  {
   "cell_type": "code",
   "execution_count": null,
   "id": "6a46a528",
   "metadata": {},
   "outputs": [],
   "source": [
    "estudantes_dict[\"Tamires\"]"
   ]
  },
  {
   "cell_type": "code",
   "execution_count": null,
   "id": "80f2865f",
   "metadata": {},
   "outputs": [],
   "source": [
    "estudantes_dict"
   ]
  },
  {
   "cell_type": "code",
   "execution_count": null,
   "id": "82fc2820",
   "metadata": {},
   "outputs": [],
   "source": [
    "estudantes_dict.clear()"
   ]
  },
  {
   "cell_type": "code",
   "execution_count": null,
   "id": "aebbce24",
   "metadata": {},
   "outputs": [],
   "source": [
    "estudantes_dict"
   ]
  },
  {
   "cell_type": "code",
   "execution_count": null,
   "id": "174d5e8a",
   "metadata": {},
   "outputs": [],
   "source": [
    "del estudantes_dict"
   ]
  },
  {
   "cell_type": "code",
   "execution_count": null,
   "id": "1b2385e5",
   "metadata": {},
   "outputs": [],
   "source": [
    "estudantes_dict"
   ]
  },
  {
   "cell_type": "code",
   "execution_count": null,
   "id": "3477acfc",
   "metadata": {},
   "outputs": [],
   "source": [
    "estudantes = {\"Matheus\": 24, \"Fernanda\":22, \"Tamires\":26, \"Cristiano\":25}"
   ]
  },
  {
   "cell_type": "code",
   "execution_count": null,
   "id": "efec436c",
   "metadata": {},
   "outputs": [],
   "source": [
    "estudantes"
   ]
  },
  {
   "cell_type": "code",
   "execution_count": null,
   "id": "e3964490",
   "metadata": {},
   "outputs": [],
   "source": [
    "len(estudantes)"
   ]
  },
  {
   "cell_type": "code",
   "execution_count": null,
   "id": "b8c371a1",
   "metadata": {},
   "outputs": [],
   "source": [
    "estudantes.keys()"
   ]
  },
  {
   "cell_type": "code",
   "execution_count": null,
   "id": "4a2dfb74",
   "metadata": {},
   "outputs": [],
   "source": [
    "estudantes.values()"
   ]
  },
  {
   "cell_type": "code",
   "execution_count": null,
   "id": "3cefc672",
   "metadata": {},
   "outputs": [],
   "source": [
    "estudantes.items()"
   ]
  },
  {
   "cell_type": "code",
   "execution_count": null,
   "id": "0f8ef9e6",
   "metadata": {},
   "outputs": [],
   "source": [
    "estudantes2 = {\"Maria\":27, \"Erika\":28, \"Milton\":26}"
   ]
  },
  {
   "cell_type": "code",
   "execution_count": null,
   "id": "dd9ebe65",
   "metadata": {},
   "outputs": [],
   "source": [
    "estudantes2"
   ]
  },
  {
   "cell_type": "code",
   "execution_count": null,
   "id": "bc74db7a",
   "metadata": {},
   "outputs": [],
   "source": [
    "estudantes.update(estudantes2)"
   ]
  },
  {
   "cell_type": "code",
   "execution_count": null,
   "id": "4d28f190",
   "metadata": {},
   "outputs": [],
   "source": [
    "estudantes"
   ]
  },
  {
   "cell_type": "code",
   "execution_count": null,
   "id": "96e0bb18",
   "metadata": {},
   "outputs": [],
   "source": [
    "len(estudantes)"
   ]
  },
  {
   "cell_type": "code",
   "execution_count": null,
   "id": "7bd8469d",
   "metadata": {},
   "outputs": [],
   "source": [
    "dic1 = {}"
   ]
  },
  {
   "cell_type": "code",
   "execution_count": null,
   "id": "93244dc2",
   "metadata": {},
   "outputs": [],
   "source": [
    "dic1"
   ]
  },
  {
   "cell_type": "code",
   "execution_count": null,
   "id": "ddb0e3ca",
   "metadata": {},
   "outputs": [],
   "source": [
    "dic1[\"key_one\"] = 2"
   ]
  },
  {
   "cell_type": "code",
   "execution_count": null,
   "id": "b99c7154",
   "metadata": {},
   "outputs": [],
   "source": [
    "print(dic1)"
   ]
  },
  {
   "cell_type": "code",
   "execution_count": null,
   "id": "3e7b6add",
   "metadata": {},
   "outputs": [],
   "source": [
    "dic1[10] = 5"
   ]
  },
  {
   "cell_type": "code",
   "execution_count": null,
   "id": "ebec7c1a",
   "metadata": {},
   "outputs": [],
   "source": [
    "dic1"
   ]
  },
  {
   "cell_type": "code",
   "execution_count": null,
   "id": "55a4dfc8",
   "metadata": {},
   "outputs": [],
   "source": [
    "dic1[8.2] = \"Python\""
   ]
  },
  {
   "cell_type": "code",
   "execution_count": null,
   "id": "512fdbb8",
   "metadata": {},
   "outputs": [],
   "source": [
    "dic1"
   ]
  },
  {
   "cell_type": "code",
   "execution_count": null,
   "id": "08b8cf20",
   "metadata": {},
   "outputs": [],
   "source": [
    "dic1[\"teste\"] = 5"
   ]
  },
  {
   "cell_type": "code",
   "execution_count": null,
   "id": "7fe66a43",
   "metadata": {},
   "outputs": [],
   "source": [
    "dic1"
   ]
  },
  {
   "cell_type": "code",
   "execution_count": null,
   "id": "d1a54d5f",
   "metadata": {},
   "outputs": [],
   "source": [
    "dict1 = {}"
   ]
  },
  {
   "cell_type": "code",
   "execution_count": null,
   "id": "1c31e83e",
   "metadata": {},
   "outputs": [],
   "source": [
    "dict1"
   ]
  },
  {
   "cell_type": "code",
   "execution_count": null,
   "id": "a68322b8",
   "metadata": {},
   "outputs": [],
   "source": [
    "dict1[\"teste\"] = 10"
   ]
  },
  {
   "cell_type": "code",
   "execution_count": null,
   "id": "b5d4ea8f",
   "metadata": {},
   "outputs": [],
   "source": [
    "dict1[\"key\"] = \"teste\""
   ]
  },
  {
   "cell_type": "code",
   "execution_count": null,
   "id": "e2015089",
   "metadata": {},
   "outputs": [],
   "source": [
    "# Atenção, pois chave e valor podem ser iguais, mas representam coisas diferentes\n",
    "dict1"
   ]
  },
  {
   "cell_type": "code",
   "execution_count": null,
   "id": "03cf39b1",
   "metadata": {},
   "outputs": [],
   "source": [
    "dict2 = {}"
   ]
  },
  {
   "cell_type": "code",
   "execution_count": null,
   "id": "d2e832ee",
   "metadata": {},
   "outputs": [],
   "source": [
    "dict2[\"key1\"] = \"Big Data\""
   ]
  },
  {
   "cell_type": "code",
   "execution_count": null,
   "id": "27949c46",
   "metadata": {},
   "outputs": [],
   "source": [
    "dict2[\"key2\"] = 10"
   ]
  },
  {
   "cell_type": "code",
   "execution_count": null,
   "id": "ef18cbd4",
   "metadata": {},
   "outputs": [],
   "source": [
    "dict2[\"key3\"] = 5.6"
   ]
  },
  {
   "cell_type": "code",
   "execution_count": null,
   "id": "216e15f2",
   "metadata": {},
   "outputs": [],
   "source": [
    "dict2"
   ]
  },
  {
   "cell_type": "code",
   "execution_count": null,
   "id": "1a9cb088",
   "metadata": {},
   "outputs": [],
   "source": [
    "a = dict2[\"key1\"]"
   ]
  },
  {
   "cell_type": "code",
   "execution_count": null,
   "id": "d0888de9",
   "metadata": {},
   "outputs": [],
   "source": [
    "b = dict2[\"key2\"]"
   ]
  },
  {
   "cell_type": "code",
   "execution_count": null,
   "id": "617044d4",
   "metadata": {},
   "outputs": [],
   "source": [
    "c = dict2[\"key3\"]"
   ]
  },
  {
   "cell_type": "code",
   "execution_count": null,
   "id": "3640eaa0",
   "metadata": {},
   "outputs": [],
   "source": [
    "a, b, c"
   ]
  },
  {
   "cell_type": "code",
   "execution_count": null,
   "id": "a4144893",
   "metadata": {},
   "outputs": [],
   "source": [
    "# Dicionário de Listas\n",
    "dict3 = {'key1':1230, 'key2':[22,453,73.4], 'key3':['leite', 'maça', 'batata']}"
   ]
  },
  {
   "cell_type": "code",
   "execution_count": null,
   "id": "05f87452",
   "metadata": {},
   "outputs": [],
   "source": [
    "dict3"
   ]
  },
  {
   "cell_type": "code",
   "execution_count": null,
   "id": "03f6f46e",
   "metadata": {},
   "outputs": [],
   "source": [
    "dict3['key2']"
   ]
  },
  {
   "cell_type": "code",
   "execution_count": null,
   "id": "d273eedd",
   "metadata": {},
   "outputs": [],
   "source": [
    "# Acessando um item da Lista, dentro do dicionário\n",
    "dict3['key3'][0].upper()"
   ]
  },
  {
   "cell_type": "code",
   "execution_count": null,
   "id": "f4be67b7",
   "metadata": {},
   "outputs": [],
   "source": [
    "# Operações com itens da Lista dentro do dicionário\n",
    "var1 = dict3['key2'][0]-2"
   ]
  },
  {
   "cell_type": "code",
   "execution_count": null,
   "id": "add3595d",
   "metadata": {},
   "outputs": [],
   "source": [
    "var1"
   ]
  },
  {
   "cell_type": "code",
   "execution_count": null,
   "id": "2e93235e",
   "metadata": {},
   "outputs": [],
   "source": [
    "# Duas operações no mesmo comando, para atualizar um item dentro da Lista\n",
    "dict3['key2'][0] -=2"
   ]
  },
  {
   "cell_type": "code",
   "execution_count": null,
   "id": "8ae3a1f4",
   "metadata": {},
   "outputs": [],
   "source": [
    "dict3"
   ]
  },
  {
   "cell_type": "markdown",
   "id": "6bdf5991",
   "metadata": {},
   "source": [
    "## Criando Dicionários Aninhados"
   ]
  },
  {
   "cell_type": "code",
   "execution_count": null,
   "id": "555e9122",
   "metadata": {},
   "outputs": [],
   "source": [
    "# Criando dicionário aninhados\n",
    "dict_aninhado = {'key1': {'key2_aninhada':{'key3_aninhada': 'Dict aninhado em Python'}}}"
   ]
  },
  {
   "cell_type": "code",
   "execution_count": null,
   "id": "f765ab73",
   "metadata": {},
   "outputs": [],
   "source": [
    "dict_aninhado"
   ]
  },
  {
   "cell_type": "code",
   "execution_count": null,
   "id": "42a492a1",
   "metadata": {},
   "outputs": [],
   "source": [
    "dict_aninhado['key1']['key2_aninhada']['key3_aninhada']"
   ]
  },
  {
   "cell_type": "markdown",
   "id": "e61dc634",
   "metadata": {},
   "source": [
    "# Fim"
   ]
  },
  {
   "cell_type": "markdown",
   "id": "1f85e08c",
   "metadata": {},
   "source": [
    "# Tuplas"
   ]
  },
  {
   "cell_type": "code",
   "execution_count": 1,
   "id": "38ee5cc2",
   "metadata": {},
   "outputs": [],
   "source": [
    "# Criando umatupla\n",
    "tupla1 = (\"Geografia\", 23, \"Elefantes\")"
   ]
  },
  {
   "cell_type": "code",
   "execution_count": 2,
   "id": "c7c86109",
   "metadata": {},
   "outputs": [
    {
     "data": {
      "text/plain": [
       "('Geografia', 23, 'Elefantes')"
      ]
     },
     "execution_count": 2,
     "metadata": {},
     "output_type": "execute_result"
    }
   ],
   "source": [
    "# Imprimindo a tupla\n",
    "tupla1"
   ]
  },
  {
   "cell_type": "code",
   "execution_count": 3,
   "id": "31b752d9",
   "metadata": {},
   "outputs": [
    {
     "ename": "AttributeError",
     "evalue": "'tuple' object has no attribute 'append'",
     "output_type": "error",
     "traceback": [
      "\u001b[0;31m---------------------------------------------------------------------------\u001b[0m",
      "\u001b[0;31mAttributeError\u001b[0m                            Traceback (most recent call last)",
      "\u001b[0;32m<ipython-input-3-9ed619991b50>\u001b[0m in \u001b[0;36m<module>\u001b[0;34m\u001b[0m\n\u001b[1;32m      1\u001b[0m \u001b[0;31m# Tuplas  não suportam append(\u001b[0m\u001b[0;34m\u001b[0m\u001b[0;34m\u001b[0m\u001b[0;34m\u001b[0m\u001b[0m\n\u001b[0;32m----> 2\u001b[0;31m \u001b[0mtupla1\u001b[0m\u001b[0;34m.\u001b[0m\u001b[0mappend\u001b[0m\u001b[0;34m(\u001b[0m\u001b[0;34m\"Chocolate\"\u001b[0m\u001b[0;34m)\u001b[0m\u001b[0;34m\u001b[0m\u001b[0;34m\u001b[0m\u001b[0m\n\u001b[0m",
      "\u001b[0;31mAttributeError\u001b[0m: 'tuple' object has no attribute 'append'"
     ]
    }
   ],
   "source": [
    "# Tuplas  não suportam append(\n",
    "tupla1.append(\"Chocolate\")"
   ]
  },
  {
   "cell_type": "code",
   "execution_count": 4,
   "id": "5fa437cb",
   "metadata": {},
   "outputs": [
    {
     "ename": "TypeError",
     "evalue": "'tuple' object does not support item deletion",
     "output_type": "error",
     "traceback": [
      "\u001b[0;31m---------------------------------------------------------------------------\u001b[0m",
      "\u001b[0;31mTypeError\u001b[0m                                 Traceback (most recent call last)",
      "\u001b[0;32m<ipython-input-4-65f6dd8c8074>\u001b[0m in \u001b[0;36m<module>\u001b[0;34m\u001b[0m\n\u001b[1;32m      1\u001b[0m \u001b[0;31m# Tuplas não suportam delete de um item específico\u001b[0m\u001b[0;34m\u001b[0m\u001b[0;34m\u001b[0m\u001b[0;34m\u001b[0m\u001b[0m\n\u001b[0;32m----> 2\u001b[0;31m \u001b[0;32mdel\u001b[0m \u001b[0mtupla1\u001b[0m\u001b[0;34m[\u001b[0m\u001b[0;34m\"Geografia\"\u001b[0m\u001b[0;34m]\u001b[0m\u001b[0;34m\u001b[0m\u001b[0;34m\u001b[0m\u001b[0m\n\u001b[0m",
      "\u001b[0;31mTypeError\u001b[0m: 'tuple' object does not support item deletion"
     ]
    }
   ],
   "source": [
    "# Tuplas não suportam delete de um item específico\n",
    "del tupla1[\"Geografia\"]"
   ]
  },
  {
   "cell_type": "code",
   "execution_count": 5,
   "id": "35051433",
   "metadata": {},
   "outputs": [],
   "source": [
    "# Tuplas podem ter um único item\n",
    "tupla1 = (\"Chocolate\")"
   ]
  },
  {
   "cell_type": "code",
   "execution_count": 6,
   "id": "28ba05d8",
   "metadata": {},
   "outputs": [
    {
     "data": {
      "text/plain": [
       "'Chocolate'"
      ]
     },
     "execution_count": 6,
     "metadata": {},
     "output_type": "execute_result"
    }
   ],
   "source": [
    "tupla1"
   ]
  },
  {
   "cell_type": "code",
   "execution_count": 16,
   "id": "86338ae0",
   "metadata": {},
   "outputs": [],
   "source": [
    "tupla1 = (\"Geografia\", 23, \"Elefantes\")"
   ]
  },
  {
   "cell_type": "code",
   "execution_count": 8,
   "id": "2083b6ac",
   "metadata": {},
   "outputs": [
    {
     "data": {
      "text/plain": [
       "'Geografia'"
      ]
     },
     "execution_count": 8,
     "metadata": {},
     "output_type": "execute_result"
    }
   ],
   "source": [
    "tupla1[0]"
   ]
  },
  {
   "cell_type": "code",
   "execution_count": 9,
   "id": "beebb39f",
   "metadata": {},
   "outputs": [
    {
     "data": {
      "text/plain": [
       "3"
      ]
     },
     "execution_count": 9,
     "metadata": {},
     "output_type": "execute_result"
    }
   ],
   "source": [
    "# Verificando o comprimaneto da tupla\n",
    "len(tupla1)"
   ]
  },
  {
   "cell_type": "code",
   "execution_count": 12,
   "id": "5aafa10b",
   "metadata": {},
   "outputs": [
    {
     "data": {
      "text/plain": [
       "(23, 'Elefantes')"
      ]
     },
     "execution_count": 12,
     "metadata": {},
     "output_type": "execute_result"
    }
   ],
   "source": [
    "# Slicing, da mesma forma que se faz com a Listas\n",
    "tupla1[1:]"
   ]
  },
  {
   "cell_type": "code",
   "execution_count": 13,
   "id": "ed4e81d0",
   "metadata": {},
   "outputs": [
    {
     "data": {
      "text/plain": [
       "2"
      ]
     },
     "execution_count": 13,
     "metadata": {},
     "output_type": "execute_result"
    }
   ],
   "source": [
    "tupla1.index('Elefantes')"
   ]
  },
  {
   "cell_type": "code",
   "execution_count": 14,
   "id": "deb7027c",
   "metadata": {},
   "outputs": [
    {
     "ename": "TypeError",
     "evalue": "'tuple' object does not support item assignment",
     "output_type": "error",
     "traceback": [
      "\u001b[0;31m---------------------------------------------------------------------------\u001b[0m",
      "\u001b[0;31mTypeError\u001b[0m                                 Traceback (most recent call last)",
      "\u001b[0;32m<ipython-input-14-59bcc25f7f2b>\u001b[0m in \u001b[0;36m<module>\u001b[0;34m\u001b[0m\n\u001b[1;32m      1\u001b[0m \u001b[0;31m# Tuplas não suportam atribuição de item\u001b[0m\u001b[0;34m\u001b[0m\u001b[0;34m\u001b[0m\u001b[0;34m\u001b[0m\u001b[0m\n\u001b[0;32m----> 2\u001b[0;31m \u001b[0mtupla1\u001b[0m\u001b[0;34m[\u001b[0m\u001b[0;36m1\u001b[0m\u001b[0;34m]\u001b[0m \u001b[0;34m=\u001b[0m \u001b[0;36m21\u001b[0m\u001b[0;34m\u001b[0m\u001b[0;34m\u001b[0m\u001b[0m\n\u001b[0m",
      "\u001b[0;31mTypeError\u001b[0m: 'tuple' object does not support item assignment"
     ]
    }
   ],
   "source": [
    "# Tuplas não suportam atribuição de item\n",
    "tupla1[1] = 21"
   ]
  },
  {
   "cell_type": "code",
   "execution_count": 18,
   "id": "08bd8bd9",
   "metadata": {},
   "outputs": [],
   "source": [
    "# Deletando a tupla\n",
    "del tupla1"
   ]
  },
  {
   "cell_type": "code",
   "execution_count": 19,
   "id": "d5adb16e",
   "metadata": {},
   "outputs": [
    {
     "ename": "NameError",
     "evalue": "name 'tupla1' is not defined",
     "output_type": "error",
     "traceback": [
      "\u001b[0;31m---------------------------------------------------------------------------\u001b[0m",
      "\u001b[0;31mNameError\u001b[0m                                 Traceback (most recent call last)",
      "\u001b[0;32m<ipython-input-19-9c021f243716>\u001b[0m in \u001b[0;36m<module>\u001b[0;34m\u001b[0m\n\u001b[0;32m----> 1\u001b[0;31m \u001b[0mtupla1\u001b[0m\u001b[0;34m\u001b[0m\u001b[0;34m\u001b[0m\u001b[0m\n\u001b[0m",
      "\u001b[0;31mNameError\u001b[0m: name 'tupla1' is not defined"
     ]
    }
   ],
   "source": [
    "tupla1"
   ]
  },
  {
   "cell_type": "code",
   "execution_count": 21,
   "id": "b78169bf",
   "metadata": {},
   "outputs": [],
   "source": [
    "# Criando uma tupla\n",
    "t2 = ('A', 'B', 'C')"
   ]
  },
  {
   "cell_type": "code",
   "execution_count": 22,
   "id": "d21d7ff7",
   "metadata": {},
   "outputs": [
    {
     "data": {
      "text/plain": [
       "('A', 'B', 'C')"
      ]
     },
     "execution_count": 22,
     "metadata": {},
     "output_type": "execute_result"
    }
   ],
   "source": [
    "t2"
   ]
  },
  {
   "cell_type": "code",
   "execution_count": 23,
   "id": "6a029005",
   "metadata": {},
   "outputs": [
    {
     "ename": "TypeError",
     "evalue": "'tuple' object does not support item assignment",
     "output_type": "error",
     "traceback": [
      "\u001b[0;31m---------------------------------------------------------------------------\u001b[0m",
      "\u001b[0;31mTypeError\u001b[0m                                 Traceback (most recent call last)",
      "\u001b[0;32m<ipython-input-23-f90994f4060e>\u001b[0m in \u001b[0;36m<module>\u001b[0;34m\u001b[0m\n\u001b[1;32m      1\u001b[0m \u001b[0;31m# Tuplas não suportam atribuição de item\u001b[0m\u001b[0;34m\u001b[0m\u001b[0;34m\u001b[0m\u001b[0;34m\u001b[0m\u001b[0m\n\u001b[0;32m----> 2\u001b[0;31m \u001b[0mt2\u001b[0m\u001b[0;34m[\u001b[0m\u001b[0;36m0\u001b[0m\u001b[0;34m]\u001b[0m \u001b[0;34m=\u001b[0m \u001b[0;34m'D'\u001b[0m\u001b[0;34m\u001b[0m\u001b[0;34m\u001b[0m\u001b[0m\n\u001b[0m",
      "\u001b[0;31mTypeError\u001b[0m: 'tuple' object does not support item assignment"
     ]
    }
   ],
   "source": [
    "# Tuplas não suportam atribuição de item\n",
    "t2[0] = 'D'"
   ]
  },
  {
   "cell_type": "code",
   "execution_count": 24,
   "id": "93d652f4",
   "metadata": {},
   "outputs": [],
   "source": [
    "# Usando a função list() para converter uma tupla para Lista\n",
    "lista_t2 = list(t2)"
   ]
  },
  {
   "cell_type": "code",
   "execution_count": 25,
   "id": "ad715353",
   "metadata": {},
   "outputs": [
    {
     "data": {
      "text/plain": [
       "['A', 'B', 'C']"
      ]
     },
     "execution_count": 25,
     "metadata": {},
     "output_type": "execute_result"
    }
   ],
   "source": [
    "lista_t2"
   ]
  },
  {
   "cell_type": "code",
   "execution_count": 26,
   "id": "35dc45b6",
   "metadata": {},
   "outputs": [],
   "source": [
    "lista_t2.append('D')"
   ]
  },
  {
   "cell_type": "code",
   "execution_count": 27,
   "id": "d6bfa637",
   "metadata": {},
   "outputs": [],
   "source": [
    "# Usando a função tuple() para converter uma Lista para tupla\n",
    "t2 = tuple(lista_t2)"
   ]
  },
  {
   "cell_type": "code",
   "execution_count": 28,
   "id": "2e972d84",
   "metadata": {},
   "outputs": [
    {
     "data": {
      "text/plain": [
       "('A', 'B', 'C', 'D')"
      ]
     },
     "execution_count": 28,
     "metadata": {},
     "output_type": "execute_result"
    }
   ],
   "source": [
    "t2"
   ]
  },
  {
   "cell_type": "markdown",
   "id": "e861119a",
   "metadata": {},
   "source": [
    "# Fim"
   ]
  },
  {
   "cell_type": "markdown",
   "id": "35058340",
   "metadata": {},
   "source": [
    "# Exercícios"
   ]
  },
  {
   "cell_type": "code",
   "execution_count": 2,
   "id": "7fc4c118",
   "metadata": {},
   "outputs": [
    {
     "name": "stdout",
     "output_type": "stream",
     "text": [
      "Versão da Linguagem Python Usada Neste Jupyter Notebook: 3.8.8\n"
     ]
    }
   ],
   "source": [
    "# Versão da Linguagem Python\n",
    "from platform import python_version\n",
    "print('Versão da Linguagem Python Usada Neste Jupyter Notebook:', python_version())"
   ]
  },
  {
   "cell_type": "markdown",
   "id": "dda4323a",
   "metadata": {},
   "source": [
    "## Exercícios Cap02"
   ]
  },
  {
   "cell_type": "code",
   "execution_count": 3,
   "id": "56149c57",
   "metadata": {},
   "outputs": [],
   "source": [
    "# Exercício 1 - Imprima na tela os números de 1 a 10. Use uma lista para armazenar os números.\n",
    "lista = [1,2,3,4,5,6,7,8,9,10]"
   ]
  },
  {
   "cell_type": "code",
   "execution_count": 4,
   "id": "81e638f5",
   "metadata": {},
   "outputs": [
    {
     "data": {
      "text/plain": [
       "[1, 2, 3, 4, 5, 6, 7, 8, 9, 10]"
      ]
     },
     "execution_count": 4,
     "metadata": {},
     "output_type": "execute_result"
    }
   ],
   "source": [
    "lista"
   ]
  },
  {
   "cell_type": "code",
   "execution_count": 5,
   "id": "1249050b",
   "metadata": {},
   "outputs": [],
   "source": [
    "# Exercício 2 - Crie uma lista de 5 objetos e imprima na tela\n",
    "lista2 = [1,2,3,4,5]"
   ]
  },
  {
   "cell_type": "code",
   "execution_count": 6,
   "id": "0e0c1b7d",
   "metadata": {},
   "outputs": [
    {
     "data": {
      "text/plain": [
       "[1, 2, 3, 4, 5]"
      ]
     },
     "execution_count": 6,
     "metadata": {},
     "output_type": "execute_result"
    }
   ],
   "source": [
    "lista2"
   ]
  },
  {
   "cell_type": "code",
   "execution_count": 7,
   "id": "1d31c938",
   "metadata": {},
   "outputs": [],
   "source": [
    "# Exercício 3 - Crie duas strings e concatene as duas em uma terceira string\n",
    "a = 'String 01'"
   ]
  },
  {
   "cell_type": "code",
   "execution_count": 8,
   "id": "c39a2f73",
   "metadata": {},
   "outputs": [],
   "source": [
    "b = 'String 02'"
   ]
  },
  {
   "cell_type": "code",
   "execution_count": 9,
   "id": "faf791e4",
   "metadata": {},
   "outputs": [
    {
     "data": {
      "text/plain": [
       "('String 01', 'String 02')"
      ]
     },
     "execution_count": 9,
     "metadata": {},
     "output_type": "execute_result"
    }
   ],
   "source": [
    "a, b"
   ]
  },
  {
   "cell_type": "code",
   "execution_count": 10,
   "id": "68a79079",
   "metadata": {},
   "outputs": [],
   "source": [
    "c = a + \" - \" + b"
   ]
  },
  {
   "cell_type": "code",
   "execution_count": 11,
   "id": "3421ff41",
   "metadata": {},
   "outputs": [
    {
     "data": {
      "text/plain": [
       "'String 01 - String 02'"
      ]
     },
     "execution_count": 11,
     "metadata": {},
     "output_type": "execute_result"
    }
   ],
   "source": [
    "c"
   ]
  },
  {
   "cell_type": "code",
   "execution_count": 12,
   "id": "1c19c459",
   "metadata": {},
   "outputs": [],
   "source": [
    "# Exercício 4 - Crie uma tupla com os seguintes elementos: 1, 2, 2, 3, 4, 4, 4, 5 e depois utilize a função count do \n",
    "# objeto tupla para verificar quantas vezes o número 4 aparece na tupla\n",
    "tupla = (1, 2, 2, 3, 4, 4, 4, 5)"
   ]
  },
  {
   "cell_type": "code",
   "execution_count": 13,
   "id": "70137b43",
   "metadata": {},
   "outputs": [
    {
     "data": {
      "text/plain": [
       "(1, 2, 2, 3, 4, 4, 4, 5)"
      ]
     },
     "execution_count": 13,
     "metadata": {},
     "output_type": "execute_result"
    }
   ],
   "source": [
    "tupla"
   ]
  },
  {
   "cell_type": "code",
   "execution_count": 14,
   "id": "a8bbc651",
   "metadata": {},
   "outputs": [
    {
     "data": {
      "text/plain": [
       "3"
      ]
     },
     "execution_count": 14,
     "metadata": {},
     "output_type": "execute_result"
    }
   ],
   "source": [
    "tupla.count(4)"
   ]
  },
  {
   "cell_type": "code",
   "execution_count": 15,
   "id": "0d9f2b62",
   "metadata": {},
   "outputs": [],
   "source": [
    "# Exercício 5 - Crie um dicionário vazio e imprima na tela\n",
    "dict = {}"
   ]
  },
  {
   "cell_type": "code",
   "execution_count": 16,
   "id": "b07b04c6",
   "metadata": {},
   "outputs": [
    {
     "data": {
      "text/plain": [
       "{}"
      ]
     },
     "execution_count": 16,
     "metadata": {},
     "output_type": "execute_result"
    }
   ],
   "source": [
    "dict"
   ]
  },
  {
   "cell_type": "code",
   "execution_count": 17,
   "id": "7699182f",
   "metadata": {},
   "outputs": [],
   "source": [
    "# Exercício 6 - Crie um dicionário com 3 chaves e 3 valores e imprima na tela\n",
    "dict2 = {\"key1\":1, \"key2\":2, \"key3\":3}"
   ]
  },
  {
   "cell_type": "code",
   "execution_count": 18,
   "id": "18fc40a4",
   "metadata": {},
   "outputs": [
    {
     "data": {
      "text/plain": [
       "{'key1': 1, 'key2': 2, 'key3': 3}"
      ]
     },
     "execution_count": 18,
     "metadata": {},
     "output_type": "execute_result"
    }
   ],
   "source": [
    "dict2"
   ]
  },
  {
   "cell_type": "code",
   "execution_count": 19,
   "id": "6468f9d8",
   "metadata": {},
   "outputs": [],
   "source": [
    "# Exercício 7 - Adicione mais um elemento ao dicionário criado no exercício anterior e imprima na tela\n",
    "dict2[\"key4\"] = \"teste\""
   ]
  },
  {
   "cell_type": "code",
   "execution_count": 20,
   "id": "6857bf1a",
   "metadata": {},
   "outputs": [
    {
     "data": {
      "text/plain": [
       "{'key1': 1, 'key2': 2, 'key3': 3, 'key4': 'teste'}"
      ]
     },
     "execution_count": 20,
     "metadata": {},
     "output_type": "execute_result"
    }
   ],
   "source": [
    "dict2"
   ]
  },
  {
   "cell_type": "code",
   "execution_count": 21,
   "id": "82ce4483",
   "metadata": {},
   "outputs": [],
   "source": [
    "# Exercício 8 - Crie um dicionário com 3 chaves e 3 valores. Um dos valores deve ser uma lista de 2 elementos numéricos. \n",
    "# Imprima o dicionário na tela.\n",
    "dict3 = { \"key1\":1, \"key2\": 'teste', \"key3\":[1,2]}"
   ]
  },
  {
   "cell_type": "code",
   "execution_count": 22,
   "id": "d60a4fa9",
   "metadata": {},
   "outputs": [
    {
     "data": {
      "text/plain": [
       "{'key1': 1, 'key2': 'teste', 'key3': [1, 2]}"
      ]
     },
     "execution_count": 22,
     "metadata": {},
     "output_type": "execute_result"
    }
   ],
   "source": [
    "dict3"
   ]
  },
  {
   "cell_type": "code",
   "execution_count": 23,
   "id": "5cf2d432",
   "metadata": {},
   "outputs": [],
   "source": [
    "# Exercício 9 - Crie uma lista de 4 elementos. O primeiro elemento deve ser uma string, \n",
    "# o segundo uma tupla de 2 elementos, o terceiro um dicionário com 2 chaves e 2 valores e \n",
    "# o quarto elemento um valor do tipo float.\n",
    "# Imprima a lista na tela.\n",
    "lista = ['texto', (1,2),{\"key1\":1,\"key2\":2},10.2]"
   ]
  },
  {
   "cell_type": "code",
   "execution_count": 24,
   "id": "e6319f63",
   "metadata": {},
   "outputs": [
    {
     "data": {
      "text/plain": [
       "['texto', (1, 2), {'key1': 1, 'key2': 2}, 10.2]"
      ]
     },
     "execution_count": 24,
     "metadata": {},
     "output_type": "execute_result"
    }
   ],
   "source": [
    "lista"
   ]
  },
  {
   "cell_type": "code",
   "execution_count": 25,
   "id": "7aa01335",
   "metadata": {},
   "outputs": [],
   "source": [
    "# Exercício 10 - Considere a string abaixo. Imprima na tela apenas os caracteres da posição 1 a 18.\n",
    "frase = 'Cientista de Dados é o profissional mais sexy do século XXI'"
   ]
  },
  {
   "cell_type": "code",
   "execution_count": 35,
   "id": "f2525241",
   "metadata": {},
   "outputs": [
    {
     "data": {
      "text/plain": [
       "'Cientista de Dados'"
      ]
     },
     "execution_count": 35,
     "metadata": {},
     "output_type": "execute_result"
    }
   ],
   "source": [
    "frase[:18]"
   ]
  },
  {
   "cell_type": "markdown",
   "id": "f89b9662",
   "metadata": {},
   "source": [
    "# Fim"
   ]
  },
  {
   "cell_type": "markdown",
   "id": "de6ad39d",
   "metadata": {},
   "source": [
    "# Condicionais"
   ]
  },
  {
   "cell_type": "markdown",
   "id": "a613a82b",
   "metadata": {},
   "source": [
    "## Condicional IF"
   ]
  },
  {
   "cell_type": "code",
   "execution_count": 1,
   "id": "5edffb41",
   "metadata": {},
   "outputs": [
    {
     "name": "stdout",
     "output_type": "stream",
     "text": [
      "Python funciona!\n"
     ]
    }
   ],
   "source": [
    "# Condicional if\n",
    "if 5 > 2:\n",
    "    print(\"Python funciona!\")"
   ]
  },
  {
   "cell_type": "code",
   "execution_count": 2,
   "id": "f47b55f9",
   "metadata": {},
   "outputs": [
    {
     "name": "stdout",
     "output_type": "stream",
     "text": [
      "Algo está errado!\n"
     ]
    }
   ],
   "source": [
    "# Statement If ... Else\n",
    "if 5 < 2:\n",
    "    print(\"Python funciona\")\n",
    "else:\n",
    "    print(\"Algo está errado!\")"
   ]
  },
  {
   "cell_type": "code",
   "execution_count": 3,
   "id": "6d9b39b5",
   "metadata": {},
   "outputs": [
    {
     "data": {
      "text/plain": [
       "True"
      ]
     },
     "execution_count": 3,
     "metadata": {},
     "output_type": "execute_result"
    }
   ],
   "source": [
    "6 > 3"
   ]
  },
  {
   "cell_type": "code",
   "execution_count": 4,
   "id": "d6310ed1",
   "metadata": {},
   "outputs": [
    {
     "data": {
      "text/plain": [
       "False"
      ]
     },
     "execution_count": 4,
     "metadata": {},
     "output_type": "execute_result"
    }
   ],
   "source": [
    "3 > 7"
   ]
  },
  {
   "cell_type": "code",
   "execution_count": 5,
   "id": "b2c4c7d8",
   "metadata": {},
   "outputs": [
    {
     "data": {
      "text/plain": [
       "True"
      ]
     },
     "execution_count": 5,
     "metadata": {},
     "output_type": "execute_result"
    }
   ],
   "source": [
    "4 < 8"
   ]
  },
  {
   "cell_type": "code",
   "execution_count": 6,
   "id": "f188fe36",
   "metadata": {},
   "outputs": [
    {
     "data": {
      "text/plain": [
       "True"
      ]
     },
     "execution_count": 6,
     "metadata": {},
     "output_type": "execute_result"
    }
   ],
   "source": [
    "4 >= 4"
   ]
  },
  {
   "cell_type": "code",
   "execution_count": 7,
   "id": "223d7260",
   "metadata": {},
   "outputs": [
    {
     "name": "stdout",
     "output_type": "stream",
     "text": [
      "Testando Python!\n"
     ]
    }
   ],
   "source": [
    "if 5 == 5:\n",
    "    print(\"Testando Python!\")"
   ]
  },
  {
   "cell_type": "code",
   "execution_count": 8,
   "id": "3241df98",
   "metadata": {},
   "outputs": [
    {
     "name": "stdout",
     "output_type": "stream",
     "text": [
      "Parece que Python funciona!\n"
     ]
    }
   ],
   "source": [
    "if True:\n",
    "    print('Parece que Python funciona!')"
   ]
  },
  {
   "cell_type": "code",
   "execution_count": 9,
   "id": "f50e5b94",
   "metadata": {},
   "outputs": [
    {
     "ename": "SyntaxError",
     "evalue": "invalid syntax (<ipython-input-9-8ee0e161c41f>, line 2)",
     "output_type": "error",
     "traceback": [
      "\u001b[0;36m  File \u001b[0;32m\"<ipython-input-9-8ee0e161c41f>\"\u001b[0;36m, line \u001b[0;32m2\u001b[0m\n\u001b[0;31m    if 4 > 3\u001b[0m\n\u001b[0m            ^\u001b[0m\n\u001b[0;31mSyntaxError\u001b[0m\u001b[0;31m:\u001b[0m invalid syntax\n"
     ]
    }
   ],
   "source": [
    "# Atenção com a sintaxe\n",
    "if 4 > 3\n",
    "    print(\"Tudo funciona!\")"
   ]
  },
  {
   "cell_type": "code",
   "execution_count": 11,
   "id": "00565731",
   "metadata": {},
   "outputs": [
    {
     "ename": "IndentationError",
     "evalue": "expected an indented block (<ipython-input-11-f919ae27c9f2>, line 3)",
     "output_type": "error",
     "traceback": [
      "\u001b[0;36m  File \u001b[0;32m\"<ipython-input-11-f919ae27c9f2>\"\u001b[0;36m, line \u001b[0;32m3\u001b[0m\n\u001b[0;31m    print(\"Tudo funciona!\")\u001b[0m\n\u001b[0m    ^\u001b[0m\n\u001b[0;31mIndentationError\u001b[0m\u001b[0;31m:\u001b[0m expected an indented block\n"
     ]
    }
   ],
   "source": [
    "# Atenção com a sintaxe\n",
    "if 4 > 3:\n",
    "print(\"Tudo funciona!\")"
   ]
  },
  {
   "cell_type": "markdown",
   "id": "5f342778",
   "metadata": {},
   "source": [
    "## Condicionais Aninhados"
   ]
  },
  {
   "cell_type": "code",
   "execution_count": 1,
   "id": "4feeaed3",
   "metadata": {},
   "outputs": [
    {
     "name": "stdout",
     "output_type": "stream",
     "text": [
      "Você pode dirigir\n"
     ]
    }
   ],
   "source": [
    "idade = 18\n",
    "if idade > 17:\n",
    "    print(\"Você pode dirigir\")"
   ]
  },
  {
   "cell_type": "code",
   "execution_count": 2,
   "id": "257b02ab",
   "metadata": {},
   "outputs": [
    {
     "name": "stdout",
     "output_type": "stream",
     "text": [
      "Ok Bob, você está autorizado a entrar!\n"
     ]
    }
   ],
   "source": [
    "Nome = \"Bob\"\n",
    "if idade > 13:\n",
    "    if Nome == \"Bob\":\n",
    "        print(\"Ok Bob, você está autorizado a entrar!\")\n",
    "    else:\n",
    "        print(\"Desculpe, mas você não pode entrar!\")"
   ]
  },
  {
   "cell_type": "code",
   "execution_count": 3,
   "id": "bd424e83",
   "metadata": {},
   "outputs": [
    {
     "name": "stdout",
     "output_type": "stream",
     "text": [
      "Ok Bob, você está autorizado a entrar!\n"
     ]
    }
   ],
   "source": [
    "idade = 13\n",
    "Nome = \"Bob\";\n",
    "if idade >= 13 and Nome == \"Bob\":\n",
    "    print(\"Ok Bob, você está autorizado a entrar!\")"
   ]
  },
  {
   "cell_type": "code",
   "execution_count": 4,
   "id": "42003d68",
   "metadata": {},
   "outputs": [
    {
     "name": "stdout",
     "output_type": "stream",
     "text": [
      "Ok, Bob você esta autorizado a entrar!\n"
     ]
    }
   ],
   "source": [
    "idade = 12\n",
    "Nome = \"Bob\"\n",
    "if (idade >= 13) or (Nome == \"Bob\"):\n",
    "    print(\"Ok, Bob você esta autorizado a entrar!\")"
   ]
  },
  {
   "cell_type": "markdown",
   "id": "3d839d67",
   "metadata": {},
   "source": [
    "## Elif"
   ]
  },
  {
   "cell_type": "code",
   "execution_count": 5,
   "id": "8a312514",
   "metadata": {},
   "outputs": [
    {
     "name": "stdout",
     "output_type": "stream",
     "text": [
      "Hoje vai chover!\n"
     ]
    }
   ],
   "source": [
    "dia = \"Terça\"\n",
    "if dia == \"Segunda\":\n",
    "    print(\"Hoje fará sol!\")\n",
    "else:\n",
    "    print(\"Hoje vai chover!\")"
   ]
  },
  {
   "cell_type": "code",
   "execution_count": 6,
   "id": "6a125ede",
   "metadata": {},
   "outputs": [
    {
     "name": "stdout",
     "output_type": "stream",
     "text": [
      "Hoje vai chover!\n"
     ]
    }
   ],
   "source": [
    "if dia == \"Segunda\":\n",
    "    print(\"Hoje fará sol!\")\n",
    "elif dia == \"Terça\":\n",
    "    print(\"Hoje vai chover!\")\n",
    "else: \n",
    "    print(\"Sem previsão do tempo para o dia selecionado\")"
   ]
  },
  {
   "cell_type": "markdown",
   "id": "2dc192aa",
   "metadata": {},
   "source": [
    "## Operadores Lógicos"
   ]
  },
  {
   "cell_type": "code",
   "execution_count": 1,
   "id": "f7056b87",
   "metadata": {},
   "outputs": [
    {
     "name": "stdout",
     "output_type": "stream",
     "text": [
      "Você pode Dirigir!\n"
     ]
    }
   ],
   "source": [
    "idade = 18\n",
    "nome = \"Bob\"\n",
    "if idade > 17:\n",
    "    print(\"Você pode Dirigir!\")"
   ]
  },
  {
   "cell_type": "code",
   "execution_count": 2,
   "id": "011996fd",
   "metadata": {},
   "outputs": [
    {
     "name": "stdout",
     "output_type": "stream",
     "text": [
      "Autorizado!\n"
     ]
    }
   ],
   "source": [
    "idade = 18\n",
    "if idade > 17 and nome == \"Bob\":\n",
    "    print(\"Autorizado!\")"
   ]
  },
  {
   "cell_type": "code",
   "execution_count": 3,
   "id": "443d3234",
   "metadata": {},
   "outputs": [
    {
     "name": "stdout",
     "output_type": "stream",
     "text": [
      "Digite o nme da disciplina: Geografia\n",
      "Digite a nota final ( entre 0 a 100): 70\n",
      "Você foi aprovado!\n"
     ]
    }
   ],
   "source": [
    "# Usando mais de uma condição na cláusula if\n",
    "\n",
    "disciplina = input('Digite o nme da disciplina: ')\n",
    "nota_final = input('Digite a nota final ( entre 0 a 100): ')\n",
    "\n",
    "if disciplina == 'Geografia' and nota_final >= '70':\n",
    "    print('Você foi aprovado!')\n",
    "else:\n",
    "    print('Lamento, acho que  você recisa estudar mais!')"
   ]
  },
  {
   "cell_type": "code",
   "execution_count": 5,
   "id": "1a64d58c",
   "metadata": {},
   "outputs": [
    {
     "name": "stdout",
     "output_type": "stream",
     "text": [
      "Digit o nome da disciplina: Geografia\n",
      "Digite a nota final (entre 0 e 100): 70\n",
      "Digite o semestre (1 a 4): 2\n",
      "Você foi aprovado em Geografia com média final '70'!\n"
     ]
    }
   ],
   "source": [
    "# Usaando mais uma condição na cláusula if e introduzindo Placeholders\n",
    "\n",
    "disciplina = input('Digit o nome da disciplina: ')\n",
    "nota_final = input('Digite a nota final (entre 0 e 100): ')\n",
    "semetre = input('Digite o semestre (1 a 4): ')\n",
    "\n",
    "if disciplina == 'Geografia' and nota_final >= '50' and int(semetre) != 1:\n",
    "    print('Você foi aprovado em %s com média final %r!' %(disciplina, nota_final))\n",
    "else:\n",
    "    print('Lamento, acho que você precisa estudar mais!')"
   ]
  },
  {
   "cell_type": "markdown",
   "id": "1bedd66a",
   "metadata": {},
   "source": [
    "# Fim"
   ]
  },
  {
   "cell_type": "markdown",
   "id": "c97705e5",
   "metadata": {},
   "source": [
    "# Loop For"
   ]
  },
  {
   "cell_type": "code",
   "execution_count": 1,
   "id": "0365a381",
   "metadata": {},
   "outputs": [
    {
     "name": "stdout",
     "output_type": "stream",
     "text": [
      "2\n",
      "3\n",
      "4\n"
     ]
    }
   ],
   "source": [
    "# Criando uma tupla e imprimindo cada um dos valores\n",
    "tp = (2,3,4)\n",
    "for i in tp:\n",
    "    print(i)"
   ]
  },
  {
   "cell_type": "code",
   "execution_count": 3,
   "id": "6ec49c28",
   "metadata": {},
   "outputs": [
    {
     "name": "stdout",
     "output_type": "stream",
     "text": [
      "Leite\n",
      "Frutas\n",
      "Carnes\n"
     ]
    }
   ],
   "source": [
    "# Criando uma lista e imprimindo cada um dos valores\n",
    "ListaDoMercado = [\"Leite\",\"Frutas\", \"Carnes\"]\n",
    "for i in ListaDoMercado:\n",
    "    print(i)"
   ]
  },
  {
   "cell_type": "code",
   "execution_count": 4,
   "id": "787c8adf",
   "metadata": {},
   "outputs": [
    {
     "name": "stdout",
     "output_type": "stream",
     "text": [
      "0\n",
      "1\n",
      "2\n",
      "3\n",
      "4\n"
     ]
    }
   ],
   "source": [
    "# Imprimindo os valores no intervalo entre 0 e 5 (exclusive)\n",
    "for contador in range(0,5):\n",
    "    print(contador)"
   ]
  },
  {
   "cell_type": "code",
   "execution_count": 6,
   "id": "6f7c2b4c",
   "metadata": {},
   "outputs": [
    {
     "name": "stdout",
     "output_type": "stream",
     "text": [
      "2\n",
      "4\n",
      "6\n",
      "8\n",
      "10\n"
     ]
    }
   ],
   "source": [
    "# Imprimindo na tela os números pares da lista de números\n",
    "lista = [1,2,3,4,5,6,7,8,9,10]\n",
    "for num in lista:\n",
    "    if num % 2 == 0:\n",
    "        print(num)"
   ]
  },
  {
   "cell_type": "code",
   "execution_count": 8,
   "id": "ce0d4672",
   "metadata": {},
   "outputs": [
    {
     "name": "stdout",
     "output_type": "stream",
     "text": [
      "0\n",
      "2\n",
      "4\n",
      "6\n",
      "8\n",
      "10\n",
      "12\n",
      "14\n",
      "16\n",
      "18\n",
      "20\n",
      "22\n",
      "24\n",
      "26\n",
      "28\n",
      "30\n",
      "32\n",
      "34\n",
      "36\n",
      "38\n",
      "40\n",
      "42\n",
      "44\n",
      "46\n",
      "48\n",
      "50\n",
      "52\n",
      "54\n",
      "56\n",
      "58\n",
      "60\n",
      "62\n",
      "64\n",
      "66\n",
      "68\n",
      "70\n",
      "72\n",
      "74\n",
      "76\n",
      "78\n",
      "80\n",
      "82\n",
      "84\n",
      "86\n",
      "88\n",
      "90\n",
      "92\n",
      "94\n",
      "96\n",
      "98\n",
      "100\n"
     ]
    }
   ],
   "source": [
    "## Listando os números no intrvalo entre 0 e 101, com incremento em 2\n",
    "for i in range(0,101,2):\n",
    "    print(i)"
   ]
  },
  {
   "cell_type": "code",
   "execution_count": 9,
   "id": "f7a37a86",
   "metadata": {},
   "outputs": [
    {
     "name": "stdout",
     "output_type": "stream",
     "text": [
      "P\n",
      "y\n",
      "t\n",
      "h\n",
      "o\n",
      "n\n",
      " \n",
      "é\n",
      " \n",
      "u\n",
      "m\n",
      "a\n",
      " \n",
      "l\n",
      "i\n",
      "n\n",
      "g\n",
      "u\n",
      "a\n",
      "g\n",
      "e\n",
      "m\n",
      " \n",
      "d\n",
      "e\n",
      " \n",
      "p\n",
      "r\n",
      "o\n",
      "g\n",
      "r\n",
      "a\n",
      "m\n",
      "a\n",
      "ç\n",
      "ã\n",
      "o\n",
      " \n",
      "d\n",
      "i\n",
      "v\n",
      "e\n",
      "r\n",
      "t\n",
      "i\n",
      "d\n",
      "a\n",
      "!\n"
     ]
    }
   ],
   "source": [
    "# Strings também são sequências\n",
    "for caracter in 'Python é uma linguagem de programação divertida!':\n",
    "    print(caracter)"
   ]
  },
  {
   "cell_type": "markdown",
   "id": "3514c1bb",
   "metadata": {},
   "source": [
    "## Loops Aninhados"
   ]
  },
  {
   "cell_type": "code",
   "execution_count": 14,
   "id": "5e80ccd1",
   "metadata": {},
   "outputs": [
    {
     "name": "stdout",
     "output_type": "stream",
     "text": [
      "0\n",
      "dentro do i\n",
      "0\n",
      "1\n",
      "2\n",
      "3\n",
      "4\n",
      "1\n",
      "dentro do i\n",
      "0\n",
      "1\n",
      "2\n",
      "3\n",
      "4\n",
      "2\n",
      "dentro do i\n",
      "0\n",
      "1\n",
      "2\n",
      "3\n",
      "4\n",
      "3\n",
      "dentro do i\n",
      "0\n",
      "1\n",
      "2\n",
      "3\n",
      "4\n",
      "4\n",
      "dentro do i\n",
      "0\n",
      "1\n",
      "2\n",
      "3\n",
      "4\n"
     ]
    }
   ],
   "source": [
    "# Loops aninhados\n",
    "for i in range(0,5):\n",
    "    print(i)\n",
    "    print(\"dentro do i\")\n",
    "    for a in range(0,5):\n",
    "        print(a)      "
   ]
  },
  {
   "cell_type": "code",
   "execution_count": 17,
   "id": "0e60b9c4",
   "metadata": {},
   "outputs": [
    {
     "name": "stdout",
     "output_type": "stream",
     "text": [
      "64\n",
      "170\n",
      "340\n",
      "360\n",
      "390\n",
      "424\n",
      "462\n",
      "462\n"
     ]
    }
   ],
   "source": [
    "# Operando os valores de uma lista com loop for\n",
    "listaB = [32,53,85,10,15,17,19]\n",
    "soma = 0\n",
    "for i in listaB:\n",
    "    double_i = i * 2\n",
    "    soma += double_i\n",
    "    print(soma)    \n",
    "\n",
    "print(soma)    "
   ]
  },
  {
   "cell_type": "code",
   "execution_count": 18,
   "id": "0c23ccab",
   "metadata": {},
   "outputs": [
    {
     "name": "stdout",
     "output_type": "stream",
     "text": [
      "[1, 2, 3]\n",
      "[10, 15, 14]\n",
      "[10.1, 8.7, 2.3]\n"
     ]
    }
   ],
   "source": [
    "# Loops em lista de lista\n",
    "listas = [[1,2,3],[10,15,14],[10.1,8.7,2.3]]\n",
    "for valor in listas:\n",
    "    print(valor)"
   ]
  },
  {
   "cell_type": "code",
   "execution_count": 20,
   "id": "d059feff",
   "metadata": {},
   "outputs": [
    {
     "name": "stdout",
     "output_type": "stream",
     "text": [
      "5\n",
      "6\n",
      "10\n",
      "13\n",
      "17\n",
      "5\n"
     ]
    }
   ],
   "source": [
    "# Contando os itens de uma lista\n",
    "lista = [5,6,10,13,17]\n",
    "count = 0\n",
    "for item in lista:\n",
    "    count += 1\n",
    "    print(item)\n",
    "\n",
    "print(count)"
   ]
  },
  {
   "cell_type": "code",
   "execution_count": 24,
   "id": "33fba994",
   "metadata": {},
   "outputs": [
    {
     "name": "stdout",
     "output_type": "stream",
     "text": [
      "1\n",
      "2\n",
      "3\n",
      "3\n"
     ]
    }
   ],
   "source": [
    "# Contando o número de colunas\n",
    "lst = [[1,2,3],[3,4,5],[5,6,7]]\n",
    "primeira_linha = lst[0]\n",
    "count = 0\n",
    "for column in primeira_linha:\n",
    "    count = count +1\n",
    "    print(column)\n",
    "    \n",
    "print(count)"
   ]
  },
  {
   "cell_type": "code",
   "execution_count": 22,
   "id": "4046ab23",
   "metadata": {},
   "outputs": [
    {
     "name": "stdout",
     "output_type": "stream",
     "text": [
      "Número encontrado na lista!\n"
     ]
    }
   ],
   "source": [
    "# Pesquisando em listas\n",
    "listaC = [5, 6, 7, 10, 50]\n",
    "\n",
    "# Loop através da lista\n",
    "for item in listaC:\n",
    "    if item == 5:\n",
    "        print(\"Número encontrado na lista!\")"
   ]
  },
  {
   "cell_type": "code",
   "execution_count": 25,
   "id": "6276e22c",
   "metadata": {},
   "outputs": [
    {
     "name": "stdout",
     "output_type": "stream",
     "text": [
      "k1\n",
      "k2\n",
      "k3\n"
     ]
    }
   ],
   "source": [
    "# Listando as chaves de um dicionário\n",
    "dict = {'k1':'Python', 'k2': 'R', 'k3': 'Scala'}\n",
    "for item in dict:\n",
    "    print(item)\n"
   ]
  },
  {
   "cell_type": "code",
   "execution_count": 26,
   "id": "075ead5c",
   "metadata": {},
   "outputs": [
    {
     "name": "stdout",
     "output_type": "stream",
     "text": [
      "k1 Python\n",
      "k2 R\n",
      "k3 Scala\n"
     ]
    }
   ],
   "source": [
    "# Imprimindo cahve e valor do dicionário. Usando o método items() para retornar os itensde um dicionário\n",
    "for k,v in dict.items():\n",
    "    print(k, v)"
   ]
  },
  {
   "cell_type": "markdown",
   "id": "ff72941e",
   "metadata": {},
   "source": [
    "# Fim"
   ]
  },
  {
   "cell_type": "markdown",
   "id": "8ebf7e5a",
   "metadata": {},
   "source": [
    "# Loop While"
   ]
  },
  {
   "cell_type": "markdown",
   "id": "0f01ac99",
   "metadata": {},
   "source": [
    "## While"
   ]
  },
  {
   "cell_type": "code",
   "execution_count": 27,
   "id": "48c9f8fa",
   "metadata": {},
   "outputs": [
    {
     "name": "stdout",
     "output_type": "stream",
     "text": [
      "0\n",
      "1\n",
      "2\n",
      "3\n",
      "4\n",
      "5\n",
      "6\n",
      "7\n",
      "8\n",
      "9\n"
     ]
    }
   ],
   "source": [
    "# Usando o loop whil para imprimir os valores  de 0 a 9\n",
    "counter = 0 \n",
    "while counter < 10:\n",
    "    print(counter)\n",
    "    counter = counter + 1"
   ]
  },
  {
   "cell_type": "code",
   "execution_count": 28,
   "id": "e223abab",
   "metadata": {},
   "outputs": [
    {
     "name": "stdout",
     "output_type": "stream",
     "text": [
      "O valor de x nesta iteração é:  0\n",
      " x ainda é menor que 10 somando 1 a x\n",
      "O valor de x nesta iteração é:  1\n",
      " x ainda é menor que 10 somando 1 a x\n",
      "O valor de x nesta iteração é:  2\n",
      " x ainda é menor que 10 somando 1 a x\n",
      "O valor de x nesta iteração é:  3\n",
      " x ainda é menor que 10 somando 1 a x\n",
      "O valor de x nesta iteração é:  4\n",
      " x ainda é menor que 10 somando 1 a x\n",
      "O valor de x nesta iteração é:  5\n",
      " x ainda é menor que 10 somando 1 a x\n",
      "O valor de x nesta iteração é:  6\n",
      " x ainda é menor que 10 somando 1 a x\n",
      "O valor de x nesta iteração é:  7\n",
      " x ainda é menor que 10 somando 1 a x\n",
      "O valor de x nesta iteração é:  8\n",
      " x ainda é menor que 10 somando 1 a x\n",
      "O valor de x nesta iteração é:  9\n",
      " x ainda é menor que 10 somando 1 a x\n",
      "Loop concluído!\n"
     ]
    }
   ],
   "source": [
    "# Também é  possível usar a clausula else para encerrar o loop while\n",
    "x = 0\n",
    "\n",
    "while x < 10:\n",
    "    print('O valor de x nesta iteração é: ', x)\n",
    "    print(' x ainda é menor que 10 somando 1 a x')\n",
    "    x += 1\n",
    "\n",
    "else:\n",
    "    print ('Loop concluído!')\n",
    "    "
   ]
  },
  {
   "cell_type": "code",
   "execution_count": 1,
   "id": "44deb6f8",
   "metadata": {},
   "outputs": [
    {
     "name": "stdout",
     "output_type": "stream",
     "text": [
      "0\n",
      "1\n",
      "2\n",
      "3\n",
      "4\n",
      "5\n",
      "6\n",
      "7\n",
      "8\n",
      "9\n"
     ]
    }
   ],
   "source": [
    "# usando o loop while para imprimir os valores de 0 a 9\n",
    "counter = 0\n",
    "while counter < 10:\n",
    "    print(counter)\n",
    "    counter = counter +1"
   ]
  },
  {
   "cell_type": "code",
   "execution_count": 3,
   "id": "b08d2fed",
   "metadata": {},
   "outputs": [
    {
     "name": "stdout",
     "output_type": "stream",
     "text": [
      "O valor de x nestaiteração é: 0\n",
      " x ainda é menor que 10, somando 1 a x\n",
      "O valor de x nestaiteração é: 1\n",
      " x ainda é menor que 10, somando 1 a x\n",
      "O valor de x nestaiteração é: 2\n",
      " x ainda é menor que 10, somando 1 a x\n",
      "O valor de x nestaiteração é: 3\n",
      " x ainda é menor que 10, somando 1 a x\n",
      "O valor de x nestaiteração é: 4\n",
      " x ainda é menor que 10, somando 1 a x\n",
      "O valor de x nestaiteração é: 5\n",
      " x ainda é menor que 10, somando 1 a x\n",
      "O valor de x nestaiteração é: 6\n",
      " x ainda é menor que 10, somando 1 a x\n",
      "O valor de x nestaiteração é: 7\n",
      " x ainda é menor que 10, somando 1 a x\n",
      "O valor de x nestaiteração é: 8\n",
      " x ainda é menor que 10, somando 1 a x\n",
      "O valor de x nestaiteração é: 9\n",
      " x ainda é menor que 10, somando 1 a x\n",
      "Loop concluído!\n"
     ]
    }
   ],
   "source": [
    "# Também é possível usar a claúsula els para encerrar o loop while\n",
    "x = 0\n",
    "\n",
    "while x < 10:\n",
    "    print ('O valor de x nestaiteração é:', x)\n",
    "    print(' x ainda é menor que 10, somando 1 a x')\n",
    "    x += 1\n",
    "    \n",
    "else:\n",
    "    print('Loop concluído!')"
   ]
  },
  {
   "cell_type": "markdown",
   "id": "0b0db257",
   "metadata": {},
   "source": [
    "## Pass, Break , Continue"
   ]
  },
  {
   "cell_type": "code",
   "execution_count": 4,
   "id": "69d45b68",
   "metadata": {},
   "outputs": [
    {
     "name": "stdout",
     "output_type": "stream",
     "text": [
      "0\n",
      "1\n",
      "2\n",
      "3\n"
     ]
    }
   ],
   "source": [
    "counter = 0\n",
    "while counter < 100:\n",
    "    if counter == 4:\n",
    "        break\n",
    "    else:\n",
    "        pass\n",
    "    print(counter)\n",
    "    counter = counter +1\n",
    "        "
   ]
  },
  {
   "cell_type": "code",
   "execution_count": 5,
   "id": "c28f055e",
   "metadata": {},
   "outputs": [
    {
     "name": "stdout",
     "output_type": "stream",
     "text": [
      "P\n",
      "y\n",
      "t\n",
      "o\n",
      "n\n"
     ]
    }
   ],
   "source": [
    "for verificador in 'Python':\n",
    "    if verificador == \"h\":\n",
    "        continue\n",
    "    print(verificador)"
   ]
  },
  {
   "cell_type": "markdown",
   "id": "78fc8e2a",
   "metadata": {},
   "source": [
    "## While e For Juntos"
   ]
  },
  {
   "cell_type": "code",
   "execution_count": 6,
   "id": "d884e206",
   "metadata": {},
   "outputs": [
    {
     "name": "stdout",
     "output_type": "stream",
     "text": [
      "2 é um número primo\n",
      "3 é um número primo\n",
      "5 é um número primo\n",
      "7 é um número primo\n",
      "11 é um número primo\n",
      "13 é um número primo\n",
      "17 é um número primo\n",
      "19 é um número primo\n",
      "23 é um número primo\n",
      "29 é um número primo\n"
     ]
    }
   ],
   "source": [
    "for i in range(2,30):\n",
    "    j = 2\n",
    "    counter = 0\n",
    "    while j < i:\n",
    "        if i % j == 0:\n",
    "            counter = 1\n",
    "            j = j + 1\n",
    "        else:\n",
    "            j = j + 1\n",
    "    \n",
    "    if counter == 0:\n",
    "        print(str(i) + \" é um número primo\")\n",
    "        counter= 0\n",
    "    else:\n",
    "        counter = 0"
   ]
  },
  {
   "cell_type": "markdown",
   "id": "c6ba2c2e",
   "metadata": {},
   "source": [
    "# Fim"
   ]
  },
  {
   "cell_type": "markdown",
   "id": "c058d532",
   "metadata": {},
   "source": [
    "# Range"
   ]
  },
  {
   "cell_type": "code",
   "execution_count": 7,
   "id": "9b1a1068",
   "metadata": {},
   "outputs": [
    {
     "name": "stdout",
     "output_type": "stream",
     "text": [
      "50\n",
      "52\n",
      "54\n",
      "56\n",
      "58\n",
      "60\n",
      "62\n",
      "64\n",
      "66\n",
      "68\n",
      "70\n",
      "72\n",
      "74\n",
      "76\n",
      "78\n",
      "80\n",
      "82\n",
      "84\n",
      "86\n",
      "88\n",
      "90\n",
      "92\n",
      "94\n",
      "96\n",
      "98\n",
      "100\n"
     ]
    }
   ],
   "source": [
    "# Imprimindo números pares entre 50 e 101\n",
    "for i in range(50, 101, 2):\n",
    "    print(i)"
   ]
  },
  {
   "cell_type": "code",
   "execution_count": 8,
   "id": "60546cf7",
   "metadata": {},
   "outputs": [
    {
     "name": "stdout",
     "output_type": "stream",
     "text": [
      "3\n",
      "4\n",
      "5\n"
     ]
    }
   ],
   "source": [
    "for i in range(3, 6):\n",
    "    print(i)"
   ]
  },
  {
   "cell_type": "code",
   "execution_count": 9,
   "id": "dd58be3d",
   "metadata": {},
   "outputs": [
    {
     "name": "stdout",
     "output_type": "stream",
     "text": [
      "0\n",
      "-2\n",
      "-4\n",
      "-6\n",
      "-8\n",
      "-10\n",
      "-12\n",
      "-14\n",
      "-16\n",
      "-18\n"
     ]
    }
   ],
   "source": [
    "for i in range(0, -20, -2):\n",
    "    print(i)"
   ]
  },
  {
   "cell_type": "code",
   "execution_count": 10,
   "id": "abfaed78",
   "metadata": {},
   "outputs": [
    {
     "name": "stdout",
     "output_type": "stream",
     "text": [
      "Morango\n",
      "Banana\n",
      "Abacaxi\n",
      "Uva\n"
     ]
    }
   ],
   "source": [
    "lista = ['Morango', 'Banana', 'Abacaxi','Uva']\n",
    "lista_tamanho = len(lista)\n",
    "for i in range(0, lista_tamanho):\n",
    "    print(lista[i])"
   ]
  },
  {
   "cell_type": "code",
   "execution_count": 11,
   "id": "fdbe159e",
   "metadata": {},
   "outputs": [
    {
     "data": {
      "text/plain": [
       "range"
      ]
     },
     "execution_count": 11,
     "metadata": {},
     "output_type": "execute_result"
    }
   ],
   "source": [
    "# Tudo em Python é um objeto\n",
    "type(range(0,3))"
   ]
  },
  {
   "cell_type": "markdown",
   "id": "d9f0b91f",
   "metadata": {},
   "source": [
    "# Fim"
   ]
  },
  {
   "cell_type": "markdown",
   "id": "c6c04dfb",
   "metadata": {},
   "source": [
    "# Exercícios - Loops e Condicionais"
   ]
  },
  {
   "cell_type": "code",
   "execution_count": 13,
   "id": "0dbebfdc",
   "metadata": {},
   "outputs": [
    {
     "name": "stdout",
     "output_type": "stream",
     "text": [
      "Versão da Lingaguem Python Usada Neste Jupyter Notebook:  3.8.8\n"
     ]
    }
   ],
   "source": [
    "# Versão da Linguagem Python\n",
    "from platform import python_version\n",
    "print('Versão da Lingaguem Python Usada Neste Jupyter Notebook: ', python_version())"
   ]
  },
  {
   "cell_type": "markdown",
   "id": "3b7bd4d5",
   "metadata": {},
   "source": [
    "## Exercícios - Loops e Condicionais - Solução"
   ]
  },
  {
   "cell_type": "code",
   "execution_count": 22,
   "id": "9b26bd7b",
   "metadata": {},
   "outputs": [
    {
     "name": "stdout",
     "output_type": "stream",
     "text": [
      "Digite o dia da semana: sábado\n",
      "Você precisa trabalhar!\n"
     ]
    }
   ],
   "source": [
    "# Exercício 1 - Crie uma estrutura que pergunte ao usuário qual o dia da semana. Se o dia for igual a Domingo ou \n",
    "# igual a sábado, imprima na tela \"Hoje é dia de descanso\", caso contrário imprima na tela \"Você precisa trabalhar!\"\n",
    "\n",
    "dia = input('Digite o dia da semana: ')\n",
    "if dia == 'Domingo' or dia == 'Sábado':\n",
    "    print(\"Hojé é dia de descanço\")\n",
    "else:\n",
    "    print(\"Você precisa trabalhar!\")\n"
   ]
  },
  {
   "cell_type": "code",
   "execution_count": 23,
   "id": "2237a28b",
   "metadata": {},
   "outputs": [
    {
     "name": "stdout",
     "output_type": "stream",
     "text": [
      "Morango faz parte da lista de frutas\n"
     ]
    },
    {
     "data": {
      "text/plain": [
       "1"
      ]
     },
     "execution_count": 23,
     "metadata": {},
     "output_type": "execute_result"
    }
   ],
   "source": [
    "# Exercício 2 - Crie uma lista de 5 frutas e verifique se a fruta 'Morango' faz parte da lista\n",
    "lista = ['Laranja','Maça', 'Abacaxi', 'Uva','Morango']\n",
    "for fruta in lista:\n",
    "    if fruta == 'Morango':\n",
    "        print(\"Morango faz parte da lista de frutas\")\n",
    "lista.count(\"Morango\")        \n"
   ]
  },
  {
   "cell_type": "code",
   "execution_count": 26,
   "id": "ae02668b",
   "metadata": {},
   "outputs": [
    {
     "name": "stdout",
     "output_type": "stream",
     "text": [
      "[2, 4, 6, 8]\n"
     ]
    }
   ],
   "source": [
    "# Exercício 3 - Crie uma tupla de 4 elementos, multiplique cada elemento da tupla por 2 e guarde os resultados em uma \n",
    "# lista\n",
    "tup1 = (1, 2, 3, 4)\n",
    "lst1 = []\n",
    "for i in tup1:\n",
    "    novo_valor = i * 2\n",
    "    lst1.append(novo_valor)\n",
    "print(lst1)    "
   ]
  },
  {
   "cell_type": "code",
   "execution_count": 31,
   "id": "bc4d7505",
   "metadata": {},
   "outputs": [
    {
     "name": "stdout",
     "output_type": "stream",
     "text": [
      "Número é par: 100\n",
      "Número é par: 102\n",
      "Número é par: 104\n",
      "Número é par: 106\n",
      "Número é par: 108\n",
      "Número é par: 110\n",
      "Número é par: 112\n",
      "Número é par: 114\n",
      "Número é par: 116\n",
      "Número é par: 118\n",
      "Número é par: 120\n",
      "Número é par: 122\n",
      "Número é par: 124\n",
      "Número é par: 126\n",
      "Número é par: 128\n",
      "Número é par: 130\n",
      "Número é par: 132\n",
      "Número é par: 134\n",
      "Número é par: 136\n",
      "Número é par: 138\n",
      "Número é par: 140\n",
      "Número é par: 142\n",
      "Número é par: 144\n",
      "Número é par: 146\n",
      "Número é par: 148\n",
      "Número é par: 150\n"
     ]
    }
   ],
   "source": [
    "# Exercício 4 - Crie uma sequência de números pares entre 100 e 150 e imprima na tela\n",
    "for i in range(100, 151, 2):\n",
    "    if i % 2 == 0:\n",
    "        print('Número é par:', i)"
   ]
  },
  {
   "cell_type": "code",
   "execution_count": 32,
   "id": "286a011f",
   "metadata": {},
   "outputs": [
    {
     "name": "stdout",
     "output_type": "stream",
     "text": [
      "A Temperadura é de:  40\n",
      "A Temperadura é de:  39\n",
      "A Temperadura é de:  38\n",
      "A Temperadura é de:  37\n",
      "A Temperadura é de:  36\n"
     ]
    }
   ],
   "source": [
    "# Exercício 5 - Crie uma variável chamada temperatura e atribua o valor 40. Enquanto temperatura for maior que 35, \n",
    "# imprima as temperaturas na tela\n",
    "temperatura = 40\n",
    "while temperatura > 35:\n",
    "    print('A Temperadura é de: ', temperatura)\n",
    "    temperatura = temperatura - 1"
   ]
  },
  {
   "cell_type": "code",
   "execution_count": null,
   "id": "521688f1",
   "metadata": {},
   "outputs": [],
   "source": [
    "# Exercício 6 - Crie uma variável chamada contador = 0. Enquanto counter for menor que 100, imprima os valores na tela,\n",
    "# mas quando for encontrado o valor 23, interrompa a execução do programa"
   ]
  }
 ],
 "metadata": {
  "kernelspec": {
   "display_name": "Python 3",
   "language": "python",
   "name": "python3"
  },
  "language_info": {
   "codemirror_mode": {
    "name": "ipython",
    "version": 3
   },
   "file_extension": ".py",
   "mimetype": "text/x-python",
   "name": "python",
   "nbconvert_exporter": "python",
   "pygments_lexer": "ipython3",
   "version": "3.8.8"
  }
 },
 "nbformat": 4,
 "nbformat_minor": 5
}
